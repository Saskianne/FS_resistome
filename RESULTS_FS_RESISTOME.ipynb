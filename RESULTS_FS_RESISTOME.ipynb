{
 "cells": [
  {
   "cell_type": "markdown",
   "id": "f6fdc57e",
   "metadata": {},
   "source": [
    "# Result outputs of the fresh water sponge resistome analysis"
   ]
  },
  {
   "cell_type": "markdown",
   "id": "37716627",
   "metadata": {},
   "source": [
    "1. Statistics of reads and contigs, bins and MAGs\n",
    "- (OPEN) SL_Fasta_Files_stats_modified_jobname.pl\n",
    "    - Reads: RAW, EC, Contig_min500, Contig_PacBio\n",
    "        - Contigs_min500: StatCTG_Illumina.xls\n",
    "        - Prokaryotic contigs (after DMC): StatCTG_PROKS.xls\n",
    "        - Contig_PacBio: StatCTG_metaFlye.xls\n",
    "    - Bin, MAG\n",
    "        - MetaBAT2 bin Illumina: StatMAG_Illumina.xls\n",
    "        - MetaBAT2 bin PacBio: StatMAG_PacBio.xls\n",
    "        - dREP MAG: StatMAG_ASG.xls\n",
    "- Reads: FastQC, MultiQC\n",
    "- Bins and MAGs: CheckM2\n",
    "    - MAG_Illumina: MAG_Illumina_quality_report.tsv\n",
    "    - MAG_ASG: MAG_ASG_quality_report.tsv\n",
    "    - MAG_metaFLYE:MAG_metaFlye_quality_report.tsv\n",
    "    - MAG_drep: MAG_dRep_ALL_quality_report.tsv"
   ]
  },
  {
   "cell_type": "code",
   "execution_count": null,
   "id": "278f5bbe",
   "metadata": {
    "vscode": {
     "languageId": "plaintext"
    }
   },
   "outputs": [],
   "source": [
    "# Path to fasta stat files (contigs, bins, MAG)\n",
    "/gxfs_work/geomar/smomw681/DATA/MAG_ALL/QC_ALL/Stats_Fasta\n",
    "\n",
    "# Path to multiQC results\n",
    "/gxfs_work/geomar/smomw681/DATA/QC_RESULTS/MULTIQC\n",
    "/gxfs_work/geomar/smomw681/DATA/MAG_ALL/QC_ALL/QC_RAW_ALL\n",
    "\n",
    "# Path to CheckM2 results\n",
    "/gxfs_work/geomar/smomw681/DATA/MAG_Illumina/METABAT2/CheckM2/Backups_w.o_66/MAG_Illumina_quality_report.tsv\n",
    "/gxfs_work/geomar/smomw681/DATA/MAG_PacBio/CheckM2_PacBio\n",
    "/gxfs_work/geomar/smomw681/DATA/MAG_ALL/CheckM_ALL\n",
    "/gxfs_work/geomar/smomw681/DATA/MAG_ALL/QC_ALL/CheckM_MAG  # all collected\n",
    "\n",
    "\n",
    "cd /gxfs_work/geomar/smomw681/DATA/MAG_Illumina/\n",
    "## STATS.xls files for\n",
    "\n",
    "## CTG_Illumina\n",
    "sbatch -c 3 -p base --mem=50G --job-name=StatCTG_Illumina \\\n",
    "     --wrap=\"perl /gxfs_work/geomar/smomw681/DATA/MAG_Files/SL_Fasta_Files_stats_modified_jobname.pl \\\n",
    "     CONTIGs_renamed\"\n",
    "##\n",
    "## CTG_PROKS\n",
    "sbatch -c 3 -p base --mem=50G --job-name=StatCTG_PROKS \\\n",
    "     --wrap=\"perl /gxfs_work/geomar/smomw681/DATA/MAG_Files/SL_Fasta_Files_stats_modified_jobname.pl \\\n",
    "     CLASS_CONTIGs/PROKS\"\n",
    "##"
   ]
  },
  {
   "cell_type": "markdown",
   "id": "096101a6",
   "metadata": {},
   "source": [
    "2. Taxonomic identification\n",
    "- GTDBTK\n",
    "    - Archea: gtdbtk.ar53.summary.tsv\n",
    "    - Bacteria: gtdbtk.bac120.summary.tsv"
   ]
  },
  {
   "cell_type": "code",
   "execution_count": null,
   "id": "1176b495",
   "metadata": {
    "vscode": {
     "languageId": "plaintext"
    }
   },
   "outputs": [],
   "source": [
    "# Path to GTDB-TK summary files\n",
    "/gxfs_work/geomar/smomw681/DATA/MAG_ALL/GTDBTK_ALL/*tsv"
   ]
  },
  {
   "cell_type": "markdown",
   "id": "b30ac2fa",
   "metadata": {},
   "source": [
    "3. Relative abundance of prokaryotes and ARG in samples \n",
    "- CoverM: drep_MAG in samples\n",
    "    - Summarize the coverm tsv output results\n",
    "- bbmap or CoverM: ARG in samples"
   ]
  },
  {
   "cell_type": "code",
   "execution_count": null,
   "id": "a765e90e",
   "metadata": {
    "vscode": {
     "languageId": "plaintext"
    }
   },
   "outputs": [],
   "source": [
    "# Path to coverM outputs\n",
    "/gxfs_work/geomar/smomw681/DATA/MAG_ALL/CoverM_ALL/*.coverm_proks_dREpMAGs.tsv"
   ]
  },
  {
   "cell_type": "markdown",
   "id": "9dd91d90",
   "metadata": {},
   "source": [
    "4. DeepARG results\n",
    "- wc, awk\n",
    "- SL_Summarize_deeparg_out_mapping_ARG_with_InOutOptions_modified.pl script\n",
    "- ARG_hitlist\n",
    "    - ARG on MAG_drep ORF \n",
    "    - ARG on MetaBAT2 bin ORF (PacBio, Illumina, ASG)"
   ]
  },
  {
   "cell_type": "code",
   "execution_count": null,
   "id": "789b758c",
   "metadata": {
    "vscode": {
     "languageId": "plaintext"
    }
   },
   "outputs": [],
   "source": [
    "# Path to DeepARG outputs\n",
    "# DeepARG on MAG_drep ORF:\n",
    "/gxfs_work/geomar/smomw681/DATA/MAG_ALL/DeepARG_ALL/DeepARG_ORF\n",
    "/gxfs_work/geomar/smomw681/DATA/MAG_ALL/DeepARG_ALL/DeepARGs_BIN_hits_perSample.txt\n",
    "/gxfs_work/geomar/smomw681/DATA/MAG_ALL/DeepARG_ALL/DeepARG_BIN_Summary\n",
    "\n",
    "# DeepARG on bin ORF:\n",
    "/gxfs_work/geomar/smomw681/DATA/MAG_ALL/DeepARG_ALL/DeepARG_ORF\n",
    "/gxfs_work/geomar/smomw681/DATA/MAG_ALL/DeepARG_ALL/DeepARG_ORF/DeepARGs_hits_perSample.tsv\n",
    "/gxfs_work/geomar/smomw681/DATA/MAG_ALL/DeepARG_ALL/DeepARG_ORF_Summary\n",
    "\n",
    "# Stats script in 5_1_3\n"
   ]
  },
  {
   "cell_type": "markdown",
   "id": "49725e8c",
   "metadata": {},
   "source": [
    "5. DeepBGC\n",
    "- "
   ]
  },
  {
   "cell_type": "markdown",
   "id": "4838ee4d",
   "metadata": {},
   "source": [
    "6. AntiSMASH \n",
    "- \n",
    "- ARG cluster on MAG_drep: \n",
    "    - in AntiSMASH_ALL \n",
    "    - align.daa.tsv, out.mapping.ARG\n",
    "- ARG cluster on MetaBAT2 bin (PacBio, Illumina, ASG)\n",
    "    - in AntiSMASH_BIN"
   ]
  },
  {
   "cell_type": "code",
   "execution_count": null,
   "id": "6f811840",
   "metadata": {
    "vscode": {
     "languageId": "plaintext"
    }
   },
   "outputs": [],
   "source": [
    "# Path to AntiSMASH results\n",
    "/gxfs_work/geomar/smomw681/DATA/MAG_ALL/AntiSMASH_ALL/\n",
    "/gxfs_work/geomar/smomw681/DATA/MAG_ALL/AntiSMASH_ALL/AntiSMASH_ALL\n",
    "/gxfs_work/geomar/smomw681/DATA/MAG_ALL/AntiSMASH_ALL/AntiSMASH_BIN\n",
    "\n",
    "## Summary antiSMAH results\n",
    "module load gcc12-env/12.3.0\n",
    "module load miniconda3/24.11.1\n",
    "conda activate AntiSMASH\n",
    "\n",
    "# AntiSMASH on MAG_drep \n",
    "python /gxfs_work/geomar/smomw681/.conda/envs/AntiSMASH/bin/multismash/workflow/scripts/count_regions.py \\\n",
    "    /gxfs_work/geomar/smomw681/DATA/MAG_ALL/AntiSMASH_ALL/AntiSMASH_ALL/ \\\n",
    "    MAG_ALL/AntiSMASH_ALL/AntiSMASH_ALL/AntiSMASH_FS_MAG_drep_ALL.tsv\n",
    "\n",
    "# AntiSMASH on MetaBAT2 bin  \n",
    "python /gxfs_work/geomar/smomw681/.conda/envs/AntiSMASH/bin/multismash/workflow/scripts/count_regions.py \\\n",
    "    /gxfs_work/geomar/smomw681/DATA/MAG_ALL/AntiSMASH_ALL/AntiSMASH_BIN/ \\\n",
    "    MAG_ALL/AntiSMASH_ALL/AntiSMASH_BIN/AntiSMASH_BIN_METABAT2.tsv\n"
   ]
  }
 ],
 "metadata": {
  "language_info": {
   "name": "python"
  }
 },
 "nbformat": 4,
 "nbformat_minor": 5
}
