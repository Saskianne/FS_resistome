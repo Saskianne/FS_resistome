{
 "cells": [
  {
   "cell_type": "markdown",
   "id": "f6fdc57e",
   "metadata": {},
   "source": [
    "# Result outputs of the fresh water sponge resistome analysis"
   ]
  },
  {
   "cell_type": "markdown",
   "id": "37716627",
   "metadata": {},
   "source": [
    "1. Statistics of reads and contigs, bins and MAGs\n",
    "- (OPEN) SL_Fasta_Files_stats_modified_jobname.pl\n",
    "    - Reads: RAW, EC, Contig_min500, Contig_PacBio\n",
    "        - Contigs_min500: StatCTG_Illumina.xls\n",
    "        - Prokaryotic contigs (after DMC): StatCTG_PROKS.xls\n",
    "        - Contig_PacBio: StatCTG_metaFlye.xls\n",
    "    - Bin, MAG\n",
    "        - MetaBAT2 bin Illumina: StatMAG_Illumina.xls\n",
    "        - MetaBAT2 bin PacBio: StatMAG_PacBio.xls\n",
    "        - dREP MAG: StatMAG_ASG.xls\n",
    "- Reads: FastQC, MultiQC\n",
    "- Bins and MAGs: CheckM2\n",
    "    - MAG_Illumina: MAG_Illumina_quality_report.tsv\n",
    "    - MAG_ASG: MAG_ASG_quality_report.tsv\n",
    "    - MAG_metaFLYE:MAG_metaFlye_quality_report.tsv\n",
    "    - MAG_drep: MAG_dRep_ALL_quality_report.tsv"
   ]
  },
  {
   "cell_type": "code",
   "execution_count": null,
   "id": "278f5bbe",
   "metadata": {
    "vscode": {
     "languageId": "plaintext"
    }
   },
   "outputs": [],
   "source": [
    "# Path to fasta stat files (contigs, bins, MAG)\n",
    "/gxfs_work/geomar/smomw681/DATA/MAG_ALL/QC_ALL/Stats_Fasta\n",
    "\n",
    "# Path to multiQC results\n",
    "/gxfs_work/geomar/smomw681/DATA/QC_RESULTS/MULTIQC\n",
    "/gxfs_work/geomar/smomw681/DATA/MAG_ALL/QC_ALL/QC_RAW_ALL\n",
    "\n",
    "# Path to CheckM2 results\n",
    "/gxfs_work/geomar/smomw681/DATA/MAG_Illumina/METABAT2/CheckM2/Backups_w.o_66/MAG_Illumina_quality_report.tsv\n",
    "/gxfs_work/geomar/smomw681/DATA/MAG_PacBio/CheckM2_PacBio\n",
    "/gxfs_work/geomar/smomw681/DATA/MAG_ALL/CheckM_ALL\n",
    "/gxfs_work/geomar/smomw681/DATA/MAG_ALL/QC_ALL/CheckM_MAG  # all collected\n",
    "\n",
    "\n",
    "cd /gxfs_work/geomar/smomw681/DATA/MAG_Illumina/\n",
    "## STATS.xls files for\n",
    "\n",
    "## CTG_Illumina\n",
    "sbatch -c 3 -p base --mem=50G --job-name=StatCTG_Illumina \\\n",
    "     --wrap=\"perl /gxfs_work/geomar/smomw681/DATA/MAG_Files/SL_Fasta_Files_stats_modified_jobname.pl \\\n",
    "     CONTIGs_renamed\"\n",
    "##\n",
    "## CTG_PROKS\n",
    "sbatch -c 3 -p base --mem=50G --job-name=StatCTG_PROKS \\\n",
    "     --wrap=\"perl /gxfs_work/geomar/smomw681/DATA/MAG_Files/SL_Fasta_Files_stats_modified_jobname.pl \\\n",
    "     CLASS_CONTIGs/PROKS\"\n",
    "##"
   ]
  },
  {
   "cell_type": "markdown",
   "id": "096101a6",
   "metadata": {},
   "source": [
    "2. Taxonomic identification/Classification with DMC\n",
    "- GTDBTK\n",
    "    - Archea: gtdbtk.ar53.summary.tsv\n",
    "    - Bacteria: gtdbtk.bac120.summary.tsv\n",
    "\n",
    "- "
   ]
  },
  {
   "cell_type": "code",
   "execution_count": null,
   "id": "1176b495",
   "metadata": {
    "vscode": {
     "languageId": "plaintext"
    }
   },
   "outputs": [],
   "source": [
    "# Path to GTDB-TK summary files\n",
    "/gxfs_work/geomar/smomw681/DATA/MAG_ALL/GTDBTK_ALL/*tsv\n",
    "\n",
    "# DMC Stats\n",
    "/gxfs_work/geomar/smomw681/DATA/MAG_ALL/DeepMicroClass_ALL/Stats_DMC_drep.tsv\n",
    "\n",
    "# DMC statistics:\n",
    "#!/bin/bash\n",
    "\n",
    "# Output file\n",
    "output=\"Stats_DMC_drep.tsv\"\n",
    "\n",
    " cd $WORK/DATA/MAG_Illumina/DEEPMicroClass/\n",
    " \n",
    "output=\"Stats_DMC_Illumina.tsv\"\n",
    "\n",
    "echo -e \"File\\tEukaryote\\tEukaryoteVirus\\tPlasmid\\tProkaryote\\tProkaryoteVirus\" > \"$output\"\n",
    "\n",
    "# Process each prediction file\n",
    "for file in *.fasta_pred_onehot_hybrid.tsv; do\n",
    "    base=$(basename \"$file\" .fasta_pred_onehot_hybrid.tsv)\n",
    "\n",
    "    # Use awk to assign each contig to the column with the highest score\n",
    "    awk -v fname=\"$base\" '\n",
    "    BEGIN {\n",
    "        FS = OFS = \"\\t\";\n",
    "        euk = eukv = plasmid = prok = prokv = 0;\n",
    "    }\n",
    "    NR > 1 {\n",
    "        maxval = $2;\n",
    "        idx = 2;\n",
    "        for (i = 3; i <= 6; i++) {\n",
    "            if ($i > maxval) {\n",
    "                maxval = $i;\n",
    "                idx = i;\n",
    "            }\n",
    "        }\n",
    "        # Count based on column index\n",
    "        if (idx == 2) euk++;\n",
    "        else if (idx == 3) eukv++;\n",
    "        else if (idx == 4) plasmid++;\n",
    "        else if (idx == 5) prok++;\n",
    "        else if (idx == 6) prokv++;\n",
    "    }\n",
    "    END {\n",
    "        print fname, euk, eukv, plasmid, prok, prokv;\n",
    "    }' \"$file\" >> \"$output\"\n",
    "done\n"
   ]
  },
  {
   "cell_type": "markdown",
   "id": "b30ac2fa",
   "metadata": {},
   "source": [
    "3. Relative abundance of prokaryotes and ARG in samples \n",
    "- CoverM: drep_MAG in samples\n",
    "    - Summarize the coverm tsv output results\n",
    "- bbmap or CoverM: ARG in samples"
   ]
  },
  {
   "cell_type": "code",
   "execution_count": null,
   "id": "a765e90e",
   "metadata": {
    "vscode": {
     "languageId": "plaintext"
    }
   },
   "outputs": [],
   "source": [
    "# Path to coverM outputs\n",
    "/gxfs_work/geomar/smomw681/DATA/MAG_ALL/CoverM_ALL/*.coverm_proks_dREpMAGs.tsv\n",
    "\n",
    " for i in ./*.coverm_proks_dRepMAGs.tsv; do\n",
    " base=$(basename $i \".tsv\")\n",
    " awk 'NR == 1; NR > 1 {print $0 | \"sort -k1 -n $i > CoverM_sorted/${base}_sorted.tsv\"}'\n",
    " done\n",
    "\n",
    " #!/bin/bash\n",
    "\n",
    "# Output file\n",
    "output_file=\"MAG_coverM_hitlist.tsv\"\n",
    "> \"$output_file\"  # Clear or create the file\n",
    "\n",
    "# Temp file for first column\n",
    "tmp_first_col=$(mktemp)\n",
    "\n",
    "# Header line\n",
    "header=\"MAG_ID\"\n",
    "\n",
    "# Loop over all .tsv files\n",
    "for i in CoverM_sorted/*.coverm_proks_dRepMAGs_sorted.tsv; do\n",
    "    base=$(basename \"$i\" \".coverm_proks_dRepMAGs_sorted.tsv\")\n",
    "    \n",
    "    # Save first column from the first file only\n",
    "    if [ ! -s \"$tmp_first_col\" ]; then\n",
    "        cut -f1 \"$i\" > \"$tmp_first_col\"\n",
    "    fi\n",
    "    \n",
    "    # Extract second column and save to a temp file\n",
    "    cut -f2 \"$i\" > \"${base}_col2.tmp\"\n",
    "    \n",
    "    # Append to header\n",
    "    header+=\"\\t$base\"\n",
    "done\n",
    "\n",
    "# Write header to output\n",
    "echo -e \"$header\" > \"$output_file\"\n",
    "\n",
    "# Paste first column and all second columns side by side\n",
    "paste \"$tmp_first_col\" *.tmp >> \"$output_file\"\n",
    "\n",
    "# Cleanup\n",
    "rm \"$tmp_first_col\" *.tmp\n"
   ]
  },
  {
   "cell_type": "markdown",
   "id": "9dd91d90",
   "metadata": {},
   "source": [
    "4. DeepARG results\n",
    "- wc, awk\n",
    "- SL_Summarize_deeparg_out_mapping_ARG_with_InOutOptions_modified.pl script\n",
    "- ARG_hitlist\n",
    "    - ARG on MAG_drep ORF \n",
    "    - ARG on MetaBAT2 bin ORF (PacBio, Illumina, ASG)"
   ]
  },
  {
   "cell_type": "code",
   "execution_count": null,
   "id": "72a9653b",
   "metadata": {
    "vscode": {
     "languageId": "plaintext"
    }
   },
   "outputs": [],
   "source": [
    "# Path to DeepARG outputs\n",
    "# DeepARG on MAG_drep ORF:\n",
    "/gxfs_work/geomar/smomw681/DATA/MAG_ALL/DeepARG_ALL/DeepARG_ORF\n",
    "/gxfs_work/geomar/smomw681/DATA/MAG_ALL/DeepARG_ALL/DeepARGs_BIN_hits_perSample.txt\n",
    "/gxfs_work/geomar/smomw681/DATA/MAG_ALL/DeepARG_ALL/DeepARG_BIN_Summary\n",
    "\n",
    "# DeepARG on bin ORF:\n",
    "/gxfs_work/geomar/smomw681/DATA/MAG_ALL/DeepARG_ALL/DeepARG_ORF\n",
    "/gxfs_work/geomar/smomw681/DATA/MAG_ALL/DeepARG_ALL/DeepARG_ORF/DeepARGs_hits_perSample.tsv\n",
    "/gxfs_work/geomar/smomw681/DATA/MAG_ALL/DeepARG_ALL/DeepARG_ORF_Summary\n",
    "\n",
    "# Stats script in 5_1_3\n"
   ]
  },
  {
   "cell_type": "code",
   "execution_count": null,
   "id": "789b758c",
   "metadata": {
    "vscode": {
     "languageId": "plaintext"
    }
   },
   "outputs": [],
   "source": [
    "\n",
    "# Unique ARGs in column 1\n",
    "cd /gxfs_work/geomar/smomw681/DATA/MAG_ALL/DeepARG_ALL/DeepARG_ALL\n",
    "cd /gxfs_work/geomar/smomw681/DATA/MAG_ALL/DeepARG_ALL/DeepARG_ALL/DeepARG_ES\n",
    "\n",
    "\n",
    "##!/bin/bash\n",
    "\n",
    "# Output file\n",
    "output_file=\"DeepARG_CTG_all_unique.tsv\"\n",
    "output_file=\"DeepARG_CTG_FS_unique.tsv\"\n",
    "output_file=\"DeepARG_CTG_ES_unique.tsv\"\n",
    "output_file=\"DeepARG_MAG_all_unique.tsv\"\n",
    "\n",
    "> \"$output_file\"  # Clear or create the file\n",
    "\n",
    "# Temporary file to collect all ARG names\n",
    "tmp_file=$(mktemp)\n",
    "\n",
    "# Loop over all *.ARG files\n",
    "for file in *.mapping.ARG; do\n",
    "    # Skip header, extract 1st column, append to temp file\n",
    "    awk 'NR > 1 {print $1}' \"$file\" >> \"$tmp_file\"\n",
    "done\n",
    "\n",
    "# Count unique ARG names\n",
    "echo -e \"ARG_Name\\tCount\" > \"$output_file\"\n",
    "sort \"$tmp_file\" | uniq -c | sort -nr | awk '{print $2 \"\\t\" $1}' >> \"$output_file\"\n",
    "\n",
    "# Print total count\n",
    "total=$(wc -l < \"$tmp_file\")\n",
    "echo -e \"\\nTotal ARG hits:\\t$total\"  >> \"$output_file\"\n",
    "\n",
    "# Unique ARG name count\n",
    "unique_ARG=$(awk 'FNR > 1 {print $1}' *.ARG | sort | uniq | wc -l)\n",
    "echo -e \"\\nUnique ARGs:\\t$unique_ARG\" >> \"$output_file\"\n",
    "\n",
    "# Clean up\n",
    "rm \"$tmp_file\"\n",
    "\n",
    "## re-do the statistics for only freshwater and estuarine sponges\n",
    "# DeepARG_CTG_FS_unique.tsv\n",
    "\n",
    "# cd /gxfs_work/geomar/smomw681/DATA/MAG_ALL/DeepARG_ALL/DeepARG_ALL/DeepARG_ES\n",
    "# DeepARG_CTG_ES_unique.tsv\n"
   ]
  },
  {
   "cell_type": "code",
   "execution_count": null,
   "id": "e6cbc662",
   "metadata": {
    "vscode": {
     "languageId": "plaintext"
    }
   },
   "outputs": [],
   "source": [
    "## ARG class in column 5\n",
    "cd /gxfs_work/geomar/smomw681/DATA/MAG_ALL/DeepARG_ALL/DeepARG_ALL\n",
    "cd /gxfs_work/geomar/smomw681/DATA/MAG_ALL/DeepARG_ALL/DeepARG_ALL/DeepARG_ES\n",
    "\n",
    "# Output file\n",
    "output_file=\"DeepARG_CTG_all_unique_class.tsv\"\n",
    "output_file=\"DeepARG_CTG_FS_unique_class.tsv\"\n",
    "output_file=\"DeepARG_CTG_ES_unique_class.tsv\"\n",
    "output_file=\"DeepARG_MAG_all_unique_class.tsv\"\n",
    "\n",
    "\n",
    "> \"$output_file\"  # Clear or create the file\n",
    "\n",
    "# Temporary file to collect all ARG names\n",
    "tmp_file=$(mktemp)\n",
    "\n",
    "# Loop over all *.mapping.ARG files\n",
    "for file in *.mapping.ARG; do\n",
    "    # Skip header, extract 5st column, append to temp file\n",
    "    awk 'NR > 1 {print $5}' \"$file\" >> \"$tmp_file\"\n",
    "done\n",
    "\n",
    "# Count unique ARG names\n",
    "echo -e \"ARG_Class\\tCount\" > \"$output_file\"\n",
    "sort \"$tmp_file\" | uniq -c | sort -nr | awk '{print $2 \"\\t\" $1}' >> \"$output_file\"\n",
    "\n",
    "# Print total count\n",
    "total=$(wc -l < \"$tmp_file\")\n",
    "echo -e \"\\nTotal class hits:\\t$total\"  >> \"$output_file\"\n",
    "\n",
    "# Unique ARG name count - something is wrong and need to be fixed\n",
    "unique_class=$(awk 'FNR > 1 {print $1}' *.ARG | sort | uniq | wc -l)\n",
    "echo -e \"\\nTotal_Class:\\t$unique_class\" >> \"$output_file\" \n",
    "\n",
    "# Clean up\n",
    "rm \"$tmp_file\""
   ]
  },
  {
   "cell_type": "markdown",
   "id": "74e3d5ed",
   "metadata": {},
   "source": []
  },
  {
   "cell_type": "markdown",
   "id": "49725e8c",
   "metadata": {},
   "source": [
    "5. DeepBGC\n",
    "- "
   ]
  },
  {
   "cell_type": "markdown",
   "id": "4838ee4d",
   "metadata": {},
   "source": [
    "6. AntiSMASH \n",
    "- \n",
    "- ARG cluster on MAG_drep: \n",
    "    - in AntiSMASH_ALL \n",
    "    - align.daa.tsv, out.mapping.ARG\n",
    "- ARG cluster on MetaBAT2 bin (PacBio, Illumina, ASG)\n",
    "    - in AntiSMASH_BIN"
   ]
  },
  {
   "cell_type": "code",
   "execution_count": null,
   "id": "6f811840",
   "metadata": {
    "vscode": {
     "languageId": "plaintext"
    }
   },
   "outputs": [],
   "source": [
    "# Path to AntiSMASH results\n",
    "/gxfs_work/geomar/smomw681/DATA/MAG_ALL/AntiSMASH_ALL/\n",
    "/gxfs_work/geomar/smomw681/DATA/MAG_ALL/AntiSMASH_ALL/AntiSMASH_ALL\n",
    "/gxfs_work/geomar/smomw681/DATA/MAG_ALL/AntiSMASH_ALL/AntiSMASH_BIN\n",
    "\n",
    "## Summary antiSMAH results\n",
    "module load gcc12-env/12.3.0\n",
    "module load miniconda3/24.11.1\n",
    "conda activate AntiSMASH\n",
    "\n",
    "# AntiSMASH on MAG_drep \n",
    "python /gxfs_work/geomar/smomw681/.conda/envs/AntiSMASH/bin/multismash/workflow/scripts/count_regions.py \\\n",
    "    /gxfs_work/geomar/smomw681/DATA/MAG_ALL/AntiSMASH_ALL/AntiSMASH_ALL/ \\\n",
    "    MAG_ALL/AntiSMASH_ALL/AntiSMASH_ALL/AntiSMASH_FS_MAG_drep_ALL.tsv\n",
    "\n",
    "# AntiSMASH on MetaBAT2 bin  \n",
    "python /gxfs_work/geomar/smomw681/.conda/envs/AntiSMASH/bin/multismash/workflow/scripts/count_regions.py \\\n",
    "    /gxfs_work/geomar/smomw681/DATA/MAG_ALL/AntiSMASH_ALL/AntiSMASH_BIN/ \\\n",
    "    MAG_ALL/AntiSMASH_ALL/AntiSMASH_BIN/AntiSMASH_BIN_METABAT2.tsv\n",
    "\n",
    "# AntiSMASH on contigs \n",
    "python /gxfs_work/geomar/smomw681/.conda/envs/AntiSMASH/bin/multismash/workflow/scripts/count_regions.py \\\n",
    "    /gxfs_work/geomar/smomw681/DATA/MAG_ALL/AntiSMASH_ALL/AntiSMASH_CTG \\\n",
    "    /gxfs_work/geomar/smomw681/DATA/MAG_ALL/AntiSMASH_ALL/AntiSMASH_CTG/AntiSMASH_CTG_ALL.tsv\n",
    "\n",
    "# the script tabulate_regions.py can be also used \n"
   ]
  }
 ],
 "metadata": {
  "language_info": {
   "name": "python"
  }
 },
 "nbformat": 4,
 "nbformat_minor": 5
}
