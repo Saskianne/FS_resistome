{
 "cells": [
  {
   "cell_type": "markdown",
   "id": "f6fdc57e",
   "metadata": {},
   "source": [
    "# Result outputs of the fresh water sponge resistome analysis"
   ]
  },
  {
   "cell_type": "markdown",
   "id": "37716627",
   "metadata": {},
   "source": [
    "1. Statistics of reads and contigs, bins and MAGs\n",
    "- (OPEN) SL_Fasta_Files_stats_modified_jobname.pl\n",
    "    - Reads: RAW, EC, Contig_min500, Contig_PacBio\n",
    "        - Contigs_min500: StatCTG_Illumina.xls\n",
    "        - Prokaryotic contigs (after DMC): StatCTG_PROKS.xls\n",
    "        - Contig_PacBio: \n",
    "    - Bin, MAG\n",
    "        - MetaBAT2 bin Illumina:\n",
    "        - MetaBAT2 bin PacBio:\n",
    "        - dREP MAG: \n",
    "- Reads and contigs: FastQC, MultiQC\n",
    "- Bins and MAGs: CheckM2\n",
    "    - MAG_Illumina: MAG_Illumina_quality_report.tsv\n",
    "    - MAG_ASG: MAG_ASG_quality_report.tsv\n",
    "    - Contig_metaFLYE:MAG_metaFlye_quality_report.tsv\n",
    "    \n",
    "    - MAG_drep: MAG_dRep_ALL_quality_report.tsv"
   ]
  },
  {
   "cell_type": "code",
   "execution_count": null,
   "id": "278f5bbe",
   "metadata": {
    "vscode": {
     "languageId": "plaintext"
    }
   },
   "outputs": [],
   "source": [
    "# Path to fasta stat files\n",
    "/gxfs_work/geomar/smomw681/DATA/MAG_Illumina/Statistics_Ctg_CDS_ORF\n",
    "\n",
    "# Path to multiQC results\n",
    "/gxfs_work/geomar/smomw681/DATA/QC_RESULTS/MULTIQC\n",
    "\n",
    "# Path to CheckM2 results\n",
    "/gxfs_work/geomar/smomw681/DATA/MAG_Illumina/METABAT2/CheckM2/Backups_w.o_66/MAG_Illumina_quality_report.tsv\n",
    "/gxfs_work/geomar/smomw681/DATA/MAG_PacBio/CheckM2_PacBio\n",
    "/gxfs_work/geomar/smomw681/DATA/MAG_ALL/CheckM_ALL\n",
    "\n",
    "\n",
    "cd /gxfs_work/geomar/smomw681/DATA/MAG_Illumina/\n",
    "## STATS.xls files for\n",
    "\n",
    "## CTG_Illumina\n",
    "sbatch -c 3 -p base --mem=50G --job-name=StatCTG_Illumina \\\n",
    "     --wrap=\"perl /gxfs_work/geomar/smomw681/DATA/MAG_Files/SL_Fasta_Files_stats_modified_jobname.pl \\\n",
    "     CONTIGs_renamed\"\n",
    "##\n",
    "## CTG_PROKS\n",
    "sbatch -c 3 -p base --mem=50G --job-name=StatCTG_PROKS \\\n",
    "     --wrap=\"perl /gxfs_work/geomar/smomw681/DATA/MAG_Files/SL_Fasta_Files_stats_modified_jobname.pl \\\n",
    "     CLASS_CONTIGs/PROKS\"\n",
    "##"
   ]
  },
  {
   "cell_type": "markdown",
   "id": "096101a6",
   "metadata": {},
   "source": [
    "2. Taxonomic identification\n",
    "- GTDBTK\n",
    "    - Archea: gtdbtk.ar53.summary.tsv\n",
    "    - Bacteria: gtdbtk.bac120.summary.tsv"
   ]
  },
  {
   "cell_type": "code",
   "execution_count": null,
   "id": "1176b495",
   "metadata": {
    "vscode": {
     "languageId": "plaintext"
    }
   },
   "outputs": [],
   "source": [
    "# Path to GTDB-TK summary files\n",
    "/gxfs_work/geomar/smomw681/DATA/MAG_ALL/GTDBTK_ALL/*tsv"
   ]
  },
  {
   "cell_type": "markdown",
   "id": "b30ac2fa",
   "metadata": {},
   "source": [
    "3. Relative abundance of prokaryotes and ARG in samples \n",
    "- CoverM: drep_MAG in samples\n",
    "    - Summarize the coverm tsv output results\n",
    "- bbmap or CoverM: ARG in samples"
   ]
  },
  {
   "cell_type": "code",
   "execution_count": null,
   "id": "a765e90e",
   "metadata": {
    "vscode": {
     "languageId": "plaintext"
    }
   },
   "outputs": [],
   "source": [
    "# Path to coverM outputs\n",
    "/gxfs_work/geomar/smomw681/DATA/MAG_ALL/CoverM_ALL/*.coverm_proks_dREpMAGs.tsv"
   ]
  },
  {
   "cell_type": "markdown",
   "id": "9dd91d90",
   "metadata": {},
   "source": [
    "4. DeepARG results\n",
    "- wc awk\n",
    "- SL_Summarize_deeparg_out_mapping_ARG_with_InOutOptions.pl script\n"
   ]
  },
  {
   "cell_type": "code",
   "execution_count": null,
   "id": "789b758c",
   "metadata": {
    "vscode": {
     "languageId": "plaintext"
    }
   },
   "outputs": [],
   "source": [
    "# Path to DeepARG outputs\n",
    "/gxfs_work/geomar/smomw681/DATA/MAG_ALL/DeepARG_ALL/DeepARG_ALL\n",
    "\n",
    "\n",
    "### DeepARG results for DeepARG run on drep_MAG\n",
    "\n",
    "cd /gxfs_work/geomar/smomw681/DATA/MAG_Illumina/PRODIGAL/DeepARGs/DeepARG_PROKS/\n",
    "DeepARGsDIR=\"/gxfs_work/geomar/smomw681/DATA/MAG_Illumina/PRODIGAL/DeepARGs/DeepARG_PROKS/\"\n",
    "ORF_ARG_FILEs=(${DeepARGsDIR}/*.deeparg.ORF.out.mapping.ARG)\n",
    "\n",
    "## count number of hits in ORF files\n",
    "wc -l *.deeparg.out.mapping.ARG | awk '$1 > 1 {print $1,$2}'\n",
    "## the total hits\n",
    "awk 'NR > 1' *.deeparg.ORF.out.mapping.ARG | wc -l | awk '$1 > 1 {print $1,$2}'\n",
    "## showing for each file, excluding the header\n",
    "wc -l *.deeparg.out.mapping.ARG | awk '$1 > 1 {print $1-1,$2}' > DeepARGs_dEP_ALL_hits_perSample.txt\n",
    "\n",
    "## Summary using perl script :\n",
    "INPUT_FILE=\"/gxfs_work/geomar/smomw681/DATA/MAG_ALL/DeepARG_ALL/DeepARGs_dEP_ALL_hits_perSample.txt\"  \n",
    "OUTPUT_FILE=\"/gxfs_work/geomar/smomw681/DATA/MAG_ALL/DeepARG_ALL/deeparg_ALL_summary.txt\"\n",
    "SUMMARY_PERL_SCRIPT_FILE=\"/gxfs_work/geomar/smomw681/DATA/MAG_Files/SL_Summarize_deeparg_out_mapping_ARG_with_InOutOptions.pl\"\n",
    "perl $SUMMARY_PERL_SCRIPT_FILE \"$INPUT_FILE\" \"$OUTPUT_FILE\"\n",
    "\n",
    "\n",
    "### DeepARG results for DeepARG run on drep_MAG\n",
    "\n",
    "cd /gxfs_work/geomar/smomw681/DATA/MAG_ALL/DeepARG_ALL/\n",
    "DeepARGsDIR=\"/gxfs_work/geomar/smomw681/DATA/MAG_ALL/DeepARG_ALL/\"\n",
    "ORF_ARG_FILEs=(${DeepARGsDIR}/*.deeparg.ORF.out.mapping.ARG)\n",
    "\n",
    "## count number of hits in ORF files\n",
    "wc -l *.deeparg.ORF.out.mapping.ARG | awk '$1 > 1 {print $1,$2}'\n",
    "## the total hits\n",
    "awk 'NR > 1' *.deeparg.ORF.out.mapping.ARG | wc -l | awk '$1 > 1 {print $1,$2}'\n",
    "## showing for each file, excluding the header\n",
    "wc -l *.deeparg.ORF.out.mapping.ARG | awk '$1 > 1 {print $1-1,$2}' > DeepARGs_MAG_PacBio_hits_perSample.txt\n",
    "\n",
    "CDS_ARG_FILEs=(${DeepARGsDIR}/DeepARG_CDS/*.deeparg.CDS.out.mapping.ARG)\n",
    "## count number of hits in CDS files\n",
    "wc -l | awk '$1 > 1 {print $1,$2}'\n",
    "## the total hits\n",
    "awk 'NR > 1' DeepARG_CDS/*.deeparg.CDS.out.mapping.ARG | wc -l | awk '$1 > 1 {print $1,$2}'\n",
    "## showing for each file, excluding the header\n",
    "wc -l DeepARG_CDS/*.deeparg.CDS.out.mapping.ARG | awk '$1 > 1 {print $1-1,$2}' > DeepARGs_CDS_hits_perSample.txt\n",
    "\n",
    "\n",
    "## Summary using perl script :\n",
    "INPUT_FILE=\"/gxfs_work/geomar/smomw681/DATA/MAG_ALL/DeepARG_ALL/DeepARGs_MAG_PacBio_hits_perSample.txt\"  \n",
    "OUTPUT_FILE=\"/gxfs_work/geomar/smomw681/DATA/MAG_ALL/DeepARG_ALL/deeparg_ALL_summary.txt\"\n",
    "SUMMARY_PERL_SCRIPT_FILE=\"/gxfs_work/geomar/smomw681/DATA/MAG_Files/SL_Summarize_deeparg_out_mapping_ARG_with_InOutOptions.pl\"\n",
    "perl $SUMMARY_PERL_SCRIPT_FILE \"$INPUT_FILE\" \"$OUTPUT_FILE\"\n"
   ]
  },
  {
   "cell_type": "markdown",
   "id": "49725e8c",
   "metadata": {},
   "source": [
    "5. "
   ]
  }
 ],
 "metadata": {
  "language_info": {
   "name": "python"
  }
 },
 "nbformat": 4,
 "nbformat_minor": 5
}
