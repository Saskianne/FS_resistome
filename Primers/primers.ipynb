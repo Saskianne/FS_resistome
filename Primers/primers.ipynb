{
 "cells": [
  {
   "cell_type": "markdown",
   "metadata": {},
   "source": [
    "# Primers for qPCR and PCRs\n",
    "\n",
    "Here I collect data about antibiotic resistance genes(ARGs) and their primers"
   ]
  },
  {
   "cell_type": "markdown",
   "metadata": {},
   "source": [
    "## Which ARGs might be there?\n",
    "\n",
    "### Here we focus on:\n",
    "- Freshwater environment\n",
    "- Sponge as host of microbial symbionts\n",
    "- ARGs transferred via sponge microbiome\n",
    "\n",
    "=> so we want to look at the resistome of freshwater sponges!\n",
    "\n",
    "#### What is special about the freshwater environment?\n",
    "- Near to anthrophogenic activities\n",
    "- Access for different animal families\n",
    "- Possible contamination sources: \n",
    "    - Agricultural runoffs\n",
    "    - Runoffs from husbandary\n",
    "    - Sewage discharges\n",
    "        - Wastewater of hospitals with high antibiotics usage\n",
    "        - Industrial wastewater\n",
    "        - households\n",
    "- Hotspot for HGT of ARG and resistance evolution\n",
    "- Important because of:\n",
    "    - drinking water reservoir\n",
    "    - Potential to be ARG reservoir to transfer ARGs between different hosts\n",
    "\n",
    "#### Which ARGs are in freshwater?\n",
    "- sul1\n",
    "- sul2\n",
    "- tet(A)\n",
    "- tet(B)\n",
    "- aadA\n",
    "- bla(TEM)\n",
    "- bla(CTX-M)\n",
    "- bla(SHV)\n",
    "- bla(NDM)\n",
    "- bla(OXA)\n",
    "\n",
    "\n",
    "\n",
    "\n",
    "#### References:\n",
    "- Review on ARGs: Urban-Chmiel et al. (2022)\n",
    "    - https://www.mdpi.com/2079-6382/11/8/1079\n",
    "-qPCR vs metagenomic for monotring: Ferreira et al. (2023)\n",
    "    - https://doi.org/10.1093/femsmc/xtad008\n",
    "- "
   ]
  },
  {
   "cell_type": "markdown",
   "metadata": {},
   "source": [
    "#### Links\n",
    "- Curated AMR database\n",
    "    - https://card.mcmaster.ca/\n",
    "- List of ABs and their abbreviation\n",
    "    - https://www.eucast.org/fileadmin/src/media/PDFs/EUCAST_files/Disk_test_documents/Disk_abbreviations/EUCAST_system_for_antimicrobial_abbreviations.pdf\n",
    "- BV-BRC: data base for information on species and strains\n",
    "    - https://www.bv-brc.org/"
   ]
  }
 ],
 "metadata": {
  "language_info": {
   "name": "python"
  }
 },
 "nbformat": 4,
 "nbformat_minor": 2
}
