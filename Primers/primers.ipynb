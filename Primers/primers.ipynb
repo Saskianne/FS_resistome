{
 "cells": [
  {
   "cell_type": "markdown",
   "metadata": {},
   "source": [
    "# Primers for qPCR and PCRs\n",
    "\n",
    "Here I collect data about antibiotic resistance genes(ARGs) and their primers"
   ]
  },
  {
   "cell_type": "markdown",
   "metadata": {},
   "source": [
    "## Which ARGs might be there?\n",
    "\n",
    "### Here we focus on:\n",
    "- Freshwater environment\n",
    "- Sponge as host of microbial symbionts\n",
    "- ARGs transferred via sponge microbiome\n",
    "\n",
    "=> so we want to look at the resistome of freshwater sponges!\n",
    "\n",
    "#### What is special about the freshwater environment?\n",
    "- Near to anthrophogenic activities\n",
    "- Access for different animal families\n",
    "- Possible contamination sources: \n",
    "    - Agricultural runoffs\n",
    "    - Runoffs from husbandary\n",
    "    - Sewage discharges\n",
    "        - Wastewater of hospitals with high antibiotics usage\n",
    "        - Industrial wastewater\n",
    "        - households\n",
    "- Hotspot for HGT of ARG and resistance evolution\n",
    "- Important because of:\n",
    "    - drinking water reservoir\n",
    "    - Potential to be ARG reservoir to transfer ARGs between different hosts\n",
    "\n",
    "#### Which ARGs are in freshwater?\n",
    "- sul1\n",
    "- sul2\n",
    "- tet(A)\n",
    "- tet(B)\n",
    "- aadA\n",
    "- bla(TEM)\n",
    "- bla(CTX-M)\n",
    "- bla(SHV)\n",
    "- bla(NDM)\n",
    "- bla(OXA)\n",
    "-\n",
    "\n",
    "#### Which bacteria are ARG resistant? \n",
    "\n",
    "- See the supplements (zam999....xlxs)\n",
    "\n",
    "\n",
    "#### References:\n",
    "- Review on ARGs: Urban-Chmiel et al. (2022)\n",
    "    - https://www.mdpi.com/2079-6382/11/8/1079\n",
    "-qPCR vs metagenomic for monotring: Ferreira et al. (2023)\n",
    "    - https://doi.org/10.1093/femsmc/xtad008\n",
    "- Why using DMSO and BSA for qPCR?\n",
    "    - https://doiserbia.nb.rs/Article.aspx?ID=0354-46641203865S"
   ]
  },
  {
   "cell_type": "markdown",
   "metadata": {},
   "source": [
    "## qPCR/RT-PCR\n",
    ": quantitative PCR or real-time PCR\n",
    "\n",
    "### Which equipments?\n",
    "\n",
    "\n",
    "### Quality indicator\n",
    "- Amplification plot: \n",
    "- Ct-values: threshold cycles\n",
    "\n",
    "### Parameters\n",
    "\n",
    "\n",
    "\n",
    "#### Caution:!\n",
    "- Primer sets that generated amplicons greater than 150 bp had a negative influence on amplification efficiency (e.g. deviation of slope from an ideal 3.33 threshold cycles per 10-fold dilution) and sensitivity\n",
    "    - Stedtfeld et al. (2018)\n",
    "- other parameters may also influence amplification efficiency and sensitivity such as GC content of primer and target as previously described \n",
    "    - (Stedtfeldet al.2008; Bustin and Huggett2017)"
   ]
  },
  {
   "cell_type": "markdown",
   "metadata": {},
   "source": [
    "#### Links\n",
    "- Curated AMR database\n",
    "    - https://card.mcmaster.ca/\n",
    "- List of ABs and their abbreviation\n",
    "    - https://www.eucast.org/fileadmin/src/media/PDFs/EUCAST_files/Disk_test_documents/Disk_abbreviations/EUCAST_system_for_antimicrobial_abbreviations.pdf\n",
    "- BV-BRC: data base for information on species and strains\n",
    "    - https://www.bv-brc.org/"
   ]
  }
 ],
 "metadata": {
  "language_info": {
   "name": "python"
  }
 },
 "nbformat": 4,
 "nbformat_minor": 2
}
