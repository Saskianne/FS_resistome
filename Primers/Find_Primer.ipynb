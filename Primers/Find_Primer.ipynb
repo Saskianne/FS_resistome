{
 "cells": [
  {
   "cell_type": "markdown",
   "metadata": {},
   "source": [
    "# Find the primers 🔎🐠\n",
    "\n",
    "The goal is to have a list of commercial/costomized primers for PCR and qPCR for ARG detection and amplicon sequencing. \n",
    "    - Amplicon sequencing is faster, reduce cost and processing loads.\n",
    "    - Higher (mostly complete) recovery of ARGs and sequencing depth than with MetaSeq\n",
    "        - Higher ARG diversity, higher SNPs recovery, \n",
    "    - Quantification of the resistome is also possible. \n",
    "    - \n",
    "The excel table is called # \"primers_ARGs.xlxs\" and will be uploaded in the geomar cloud. "
   ]
  },
  {
   "cell_type": "code",
   "execution_count": null,
   "metadata": {
    "vscode": {
     "languageId": "plaintext"
    }
   },
   "outputs": [],
   "source": [
    "## Which database/tools for ARGs search are there?\n",
    "- NCBI\n",
    "- Resfinder\n",
    "- CARD\n",
    "- AMRFinderPlus\n",
    "- MGEfinder\n",
    "- BacMet databases"
   ]
  },
  {
   "cell_type": "code",
   "execution_count": null,
   "metadata": {
    "vscode": {
     "languageId": "plaintext"
    }
   },
   "outputs": [],
   "source": [
    "## How to look for freshwater specific ARGs?\n"
   ]
  },
  {
   "cell_type": "markdown",
   "metadata": {},
   "source": [
    "## Characteristics of the ARGs in bacteria\n",
    "- Antibiotic efflux pump mechanisms are ubiquitous among bacteria and greatly contribute to antimicrobial resistance\n",
    "\n",
    "# Characteristics of the MGE (mobile genetic elements)\n",
    "- cotransfer of few MGEs with ß-lactam ARGs suggested (Feng et al., 2021)"
   ]
  },
  {
   "cell_type": "markdown",
   "metadata": {},
   "source": [
    "## References\n",
    "\n",
    "- Feng et al. (2021), Multiplexed Target Enrichment Enables Efficient and In-Depth Analysis of Antimicrobial Resistome in Metagenomes : https://doi.org/10.1128/spectrum.02297-22\n",
    "    - Amplicon sequencing is more sensitive\n"
   ]
  }
 ],
 "metadata": {
  "language_info": {
   "name": "python"
  }
 },
 "nbformat": 4,
 "nbformat_minor": 2
}
