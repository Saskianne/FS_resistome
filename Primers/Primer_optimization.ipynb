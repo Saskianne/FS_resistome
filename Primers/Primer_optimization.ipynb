{
 "cells": [
  {
   "cell_type": "markdown",
   "id": "78ae041f",
   "metadata": {},
   "source": [
    "# ARG PCR Protocol Optimization \n",
    "#### with the ARG qPCR primer from Perez-Bou et al. (2024) and Stedtfeldt et al. (2018)"
   ]
  },
  {
   "cell_type": "markdown",
   "id": "b76a598b",
   "metadata": {},
   "source": [
    "## Primer List\n",
    "#### ARG\n",
    "- sul1\n",
    "- sul2\n",
    "- tet(A)\n",
    "- tet(B)\n",
    "- aadA\n",
    "- bla(TEM)\n",
    "- bla(CTX-M)\n",
    "- bla(SHV)\n",
    "- ampC\n",
    "- ermB\n",
    "- mecA\n",
    "- qnrS\n",
    "- dfrA1\n",
    "\n",
    "#### MGE\n",
    "- int1\n",
    "- tnpA\n"
   ]
  },
  {
   "cell_type": "markdown",
   "id": "f25bda8a",
   "metadata": {},
   "source": []
  },
  {
   "cell_type": "markdown",
   "id": "4a6cfbbb",
   "metadata": {},
   "source": [
    "## PCR testing\n",
    "1. Use original qPCR protocol for the PCR \n",
    "    - Perez-Bou without BSA and additive\n",
    "    - Results: \n",
    "        - Non-specific PCR reaction (multiple bands)\n",
    "        - \n",
    "2. "
   ]
  }
 ],
 "metadata": {
  "language_info": {
   "name": "python"
  }
 },
 "nbformat": 4,
 "nbformat_minor": 5
}
