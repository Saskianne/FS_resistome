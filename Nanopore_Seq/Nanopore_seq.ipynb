{
 "cells": [
  {
   "cell_type": "markdown",
   "id": "cb19780e",
   "metadata": {},
   "source": []
  },
  {
   "cell_type": "code",
   "execution_count": null,
   "id": "90ab3ec4",
   "metadata": {
    "vscode": {
     "languageId": "plaintext"
    }
   },
   "outputs": [],
   "source": [
    "## Setup \n",
    "\n",
    "cd $WORK/DATA\n",
    "mkdir DORADO\n",
    "module load gcc12-env/12.3.0\n",
    "module load miniconda3/24.11.1\n",
    "conda create -n Dorado \n",
    "conda activate Dorado\n",
    "curl \"https://cdn.oxfordnanoportal.com/software/analysis/dorado-1.0.1-linux-x64.tar.gz\" -o dorado-1.0.1-linux-x64.tar.gz\n",
    "tar -xzvf dorado-1.0.1-linux-x64.tar.gz\n",
    "export PATH=$PATH:/gxfs_work/geomar/smomw681/DORADO/dorado-1.0.1-linux-x64/bin:$PATH\n",
    "dorado-1.0.1-linux-x64/bin/dorado --version\n",
    "cp -r $WORK/DORADO/dorado-1.0.1-linux-x64 /gxfs_work/geomar/smomw681/.conda/envs/Dorado/\n",
    "\n",
    "\n",
    "dorado --help\n",
    "\n",
    "\n",
    "# for v9.4.1. pores, an older version (v0.9.6.) of dorado is required\n",
    "cd $WORK/DORADO\n",
    "conda create -n Dorado_0.9.4\n",
    "conda activate Dorado_0.9.4\n",
    "wget \"https://cdn.oxfordnanoportal.com/software/analysis/dorado-0.9.6-linux-x64.tar.gz\"\n",
    "tar -xzvf dorado-0.9.6-linux-x64.tar.gz\n",
    "wget \"cdn.oxfordnanoportal.com/software/analysis/dorado-0.9.5-linux-x64-cuda-11.8.tar.gz\"\n",
    "tar -xzvf dorado-0.9.5-linux-x64-cuda-11.8.tar.gz\n",
    "dorado-0.9.5-linux-x64-cuda-11.8/bin/dorado --version\n",
    "\n",
    "export PATH=/gxfs_work/geomar/smomw681/.conda/envs/Dorado_0.9.4/dorado-0.9.6-linux-x64/bin:$PATH\n",
    "dorado-0.9.5-linux-x64-cuda-11.8/bin/dorado download --list\n",
    "dorado download --model "
   ]
  },
  {
   "cell_type": "markdown",
   "id": "1b6ec201",
   "metadata": {},
   "source": []
  }
 ],
 "metadata": {
  "language_info": {
   "name": "python"
  }
 },
 "nbformat": 4,
 "nbformat_minor": 5
}
