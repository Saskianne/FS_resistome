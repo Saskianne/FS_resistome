{
 "cells": [
  {
   "cell_type": "markdown",
   "id": "cb19780e",
   "metadata": {},
   "source": []
  },
  {
   "cell_type": "markdown",
   "id": "5e06e85e",
   "metadata": {},
   "source": [
    "# Setup and description of what I am doing with Nanopore sequences\n"
   ]
  },
  {
   "cell_type": "code",
   "execution_count": null,
   "id": "90ab3ec4",
   "metadata": {
    "vscode": {
     "languageId": "plaintext"
    }
   },
   "outputs": [],
   "source": [
    "## Setup \n",
    "\n",
    "# DORADO \n",
    "    cd $WORK/DATA\n",
    "    mkdir DORADO\n",
    "    module load gcc12-env/12.3.0\n",
    "    module load miniconda3/24.11.1\n",
    "    conda create -n Dorado \n",
    "    conda activate Dorado\n",
    "    curl \"https://cdn.oxfordnanoportal.com/software/analysis/dorado-1.0.1-linux-x64.tar.gz\" -o dorado-1.0.1-linux-x64.tar.gz\n",
    "    tar -xzvf dorado-1.0.1-linux-x64.tar.gz\n",
    "    export PATH=$PATH:/gxfs_work/geomar/smomw681/DORADO/dorado-1.0.1-linux-x64/bin:$PATH\n",
    "    dorado-1.0.1-linux-x64/bin/dorado --version\n",
    "    cp -r $WORK/DORADO/dorado-1.0.1-linux-x64 /gxfs_work/geomar/smomw681/.conda/envs/Dorado/\n",
    "\n",
    "\n",
    "dorado --help\n",
    "\n",
    "# Dorado_0.9.4\n",
    "# for v9.4.1. pores, an older version (v0.9.6.) of dorado is required\n",
    "    cd $WORK/DORADO\n",
    "    conda create -n Dorado_0.9.4\n",
    "    conda activate Dorado_0.9.4\n",
    "    wget \"https://cdn.oxfordnanoportal.com/software/analysis/dorado-0.9.6-linux-x64.tar.gz\"\n",
    "    tar -xzvf dorado-0.9.6-linux-x64.tar.gz\n",
    "    wget \"cdn.oxfordnanoportal.com/software/analysis/dorado-0.9.5-linux-x64-cuda-11.8.tar.gz\"\n",
    "    tar -xzvf dorado-0.9.5-linux-x64-cuda-11.8.tar.gz\n",
    "    dorado-0.9.5-linux-x64-cuda-11.8/bin/dorado --version\n",
    "\n",
    "    export PATH=/gxfs_work/geomar/smomw681/.conda/envs/Dorado_0.9.4/dorado-0.9.6-linux-x64/bin:$PATH\n",
    "    dorado-0.9.5-linux-x64-cuda-11.8/bin/dorado download --list\n",
    "    dorado download --model \n",
    "\n",
    "\n",
    "\n",
    "# For older files with fast5 outputs and/or older kits (like SQK RAD004), you need guppy as basecaller\n",
    "## download it from ONT website (basecaller -> legacy basecaller, login required)\n",
    "# https://nanoporetech.com/software/other/guppy\n",
    "module load gcc12-env/12.3.0\n",
    "module load miniconda3/24.11.1\n",
    "conda create -n GUPPY_6.5.7\n",
    "conda activate GUPPY_6.5.7\n",
    "mkdir /gxfs_work/geomar/smomw681/PROGRAMS/GUPPY\n",
    "cd /gxfs_work/geomar/smomw681/PROGRAMS/GUPPY\n",
    "tar -zxvf ont-guppy.6.5.7_linux64.tar.gz\n",
    "cp -r ont-guppy /gxfs_work/geomar/smomw681/.conda/envs/GUPPY_6.5.7/\n",
    "/gxfs_work/geomar/smomw681/.conda/envs/GUPPY_6.5.7/ont-guppy/bin/guppy_basecaller --version\n",
    "module load gpu-env/default\n",
    "module load cuda/11.8.0\n",
    "\n",
    "export LD_LIBRARY_PATH=/gxfs_home/sw/spack/spack0.20.1/usr/opt/spack/linux-rocky8-x86_64/gcc-12.3.0/cuda-11.8.0-5g4nl2kmw6fh2ouirwta2adixuz2q2uu/lib64:$LD_LIBRARY_PATH\n",
    "export LD_LIBRARY_PATH=/gxfs_home/sw/spack/spack0.20.1/usr/opt/spack/linux-rocky8-x86_64/gcc-12.3.0/cuda-11.8.0-5g4nl2kmw6fh2ouirwta2adixuz2q2uu/targets/x86_64-linux/lib/libcudart.so.11.0:$LD_LIBRARY_PATH\n",
    "\n",
    "tar -zxvf ont-guppy_6.5.7_linux64\\(1\\).tar.gz\n",
    "\n",
    "conda install conda-forge::cudatoolkit -y # v11.8\n",
    "\n",
    "\n"
   ]
  },
  {
   "cell_type": "code",
   "execution_count": null,
   "id": "e0876a83",
   "metadata": {
    "vscode": {
     "languageId": "plaintext"
    }
   },
   "outputs": [],
   "source": []
  },
  {
   "cell_type": "markdown",
   "id": "1b6ec201",
   "metadata": {},
   "source": []
  },
  {
   "cell_type": "markdown",
   "id": "dfae1f71",
   "metadata": {},
   "source": []
  }
 ],
 "metadata": {
  "language_info": {
   "name": "python"
  }
 },
 "nbformat": 4,
 "nbformat_minor": 5
}
