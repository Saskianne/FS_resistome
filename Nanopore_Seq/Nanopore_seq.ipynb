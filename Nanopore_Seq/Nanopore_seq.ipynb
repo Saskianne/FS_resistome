{
 "cells": [
  {
   "cell_type": "markdown",
   "id": "cb19780e",
   "metadata": {},
   "source": []
  },
  {
   "cell_type": "code",
   "execution_count": null,
   "id": "90ab3ec4",
   "metadata": {
    "vscode": {
     "languageId": "plaintext"
    }
   },
   "outputs": [],
   "source": [
    "## Setup \n",
    "\n",
    "cd $WORK/DATA\n",
    "mkdir DORADO\n",
    "module load gcc12-env/12.3.0\n",
    "module load miniconda3/24.11.1\n",
    "conda create -n Dorado \n",
    "conda activate Dorado\n",
    "conda install hcc::dorado\n",
    "wget https://cdn.oxfordnanoportal.com/software/analysis/dorado-1.0.0-linux-x64.tar.gz ./DORADO\n",
    "tar -zxvf DORADO/dorado-1.0.0-linux-x64.tar.gz\n",
    "DORADO/dorado-1.0.0-linux-x64/bin/dorado basecaller hac pod5s/ > calls.bam\n",
    "export PATH=$PATH:/gxfs_work/geomar/smomw681/DORADO/dorado-1.0.0-linux-x64/bin > /etc/profile.d/dorado.sh\n",
    "\n",
    "\n"
   ]
  },
  {
   "cell_type": "markdown",
   "id": "1b6ec201",
   "metadata": {},
   "source": []
  }
 ],
 "metadata": {
  "language_info": {
   "name": "python"
  }
 },
 "nbformat": 4,
 "nbformat_minor": 5
}
