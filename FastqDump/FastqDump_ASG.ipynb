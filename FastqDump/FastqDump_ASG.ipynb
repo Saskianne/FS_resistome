{
 "cells": [
  {
   "cell_type": "markdown",
   "metadata": {},
   "source": [
    "# Download a metagenome file from ASG\n",
    "\n",
    "In total of 24 metagenome files\n",
    "- 11 of Spongilla\n",
    "- 3 Eph\n",
    "- 10 of Eunapius fragilis\n",
    "\n",
    "Batch script: Run_FastqDump_ASG_Download_SRR.sh"
   ]
  },
  {
   "cell_type": "code",
   "execution_count": null,
   "metadata": {
    "vscode": {
     "languageId": "plaintext"
    }
   },
   "outputs": [],
   "source": [
    "conda activate FastqDump\n",
    "\n",
    "NCBI metagenomes downloaded with sra-toolkit and fastq-dump\n",
    "- ASG MAGs downloaded with ncbi-genome-download \n",
    "    - group 'all'\n",
    "    - -l 'all' (default setting used)\n",
    "    - p 10\n",
    "    \n"
   ]
  },
  {
   "cell_type": "code",
   "execution_count": null,
   "metadata": {
    "vscode": {
     "languageId": "plaintext"
    }
   },
   "outputs": [],
   "source": [
    "# list of MAG accession on EBI\n",
    "ERZ18440741 # Spongilla lacustris\n",
    "ERZ21784910 # Eunapius fragilis\n",
    "\n",
    "\n",
    "# list of accession no. of MAGs from ASG database\n",
    "cat > assembly_ASG_list.txt\n",
    "GCA_949361645\n",
    "GCA_949361655\n",
    "\n",
    "GCA_964261645\n",
    "GCA_964261675\n",
    "\n",
    "GCA_963681505\n",
    "GCA_963681505\n",
    "\n",
    "# list of bioproject numbers \n",
    "cat > biopr_ASG_list.txt\n",
    "PRJEB62663\n",
    "PRJEB65992\n",
    "\n",
    "\n",
    "# list of srr no. of metagenomes from ASG database\n",
    "cat > srr_ASG_list.txt\n",
    "ERR10786015\n",
    "ERR10786016\n",
    "ERR10798424\n",
    "ERR10786013\n",
    "ERR10786014\n",
    "ERR10786011\n",
    "ERR10786012\n",
    "ERR10802378\n",
    "ERR10802379\n",
    "ERR10786017\n",
    "ERR12708738\n",
    "\n",
    "ERR13621441\n",
    "ERR13962542\n",
    "ERR13615510\n",
    "\n",
    "ERR11641155\n",
    "ERR11641083\n",
    "ERR11641151\n",
    "ERR11641081\n",
    "ERR11641152\n",
    "ERR11641153\n",
    "ERR11641154\n",
    "ERR11641156\n",
    "ERR11641080\n",
    "ERR11641082\n"
   ]
  },
  {
   "cell_type": "markdown",
   "metadata": {},
   "source": []
  }
 ],
 "metadata": {
  "language_info": {
   "name": "python"
  }
 },
 "nbformat": 4,
 "nbformat_minor": 2
}
