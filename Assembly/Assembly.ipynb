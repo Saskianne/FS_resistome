{
 "cells": [
  {
   "cell_type": "markdown",
   "metadata": {},
   "source": [
    "# Assembly steps\n",
    "\n",
    "## Shotgun-metatranscriptome-sequencing data\n",
    "\n",
    "- Conda environment name: Assembly\n",
    "\n",
    "- primarly for the illumina runs, paired-end sequences\n",
    "- Steps are: \n",
    "    - QC with trimmomatic\n",
    "        - bash script: Trimmomatic_QC.sh\n",
    "    - PHIX filtering with bbmap\n",
    "    - error correction with tedpole (from bbmap package)\n",
    "    - assembly with metaSPAdes\n",
    "\n",
    "## Long-read sequencing data (e.g. PacBio) \n",
    "\n",
    "- Conda environment name: PacBio_Assembly\n",
    "- for long reads from PacBio sequel platform\n",
    "- Workflow:\n",
    "    - QC using fastqc\n",
    "    - Assembly using wtdbg2, metaFlye and Canu + Unicycler\n",
    "    - QC of assembly with the metaQUAST"
   ]
  },
  {
   "cell_type": "code",
   "execution_count": null,
   "metadata": {
    "vscode": {
     "languageId": "plaintext"
    }
   },
   "outputs": [],
   "source": [
    "module load gcc12-env/12.3.0\n",
    "module load miniconda3/24.11.1\n",
    "\n",
    "cd $WORK/DATA\n",
    "mkdir QCed_DATA PHIX_FILTERED ERROR_CORRECTED ASSEMBLIES"
   ]
  },
  {
   "cell_type": "markdown",
   "metadata": {},
   "source": [
    "### Progress \n",
    "\n",
    "#### TrimmomaticPE: \n",
    "- Completed successfully\n",
    "- Bigger files took longer and were interrupted often \n",
    "    - -> set longer time for the individual batch (max 48h) or launch parallel jobs\n",
    "\n",
    "#### PhiX174 Removal:\n",
    "- What ist PhiX?\n",
    "    - PhiX control v3 library is smal library for quality control\n",
    "    - Calibration control: phasing calculation, cross talk matrix generation, overall performance evaluation\n",
    "    - Run quality monitoring: due to its balanced nucleotide composition\n",
    "    - But should be removed to assemble the contigs\n",
    "- Almost 100 % of the data wasn't mapped to PhiX, so the run was quite short\n",
    "    - But there were files with higher error rate. (SRR15145662, SRR23378604, SRR23378605)\n",
    "\n",
    "#### Error correction \n",
    "- \n",
    "\n",
    "\n"
   ]
  },
  {
   "cell_type": "code",
   "execution_count": null,
   "metadata": {
    "vscode": {
     "languageId": "plaintext"
    }
   },
   "outputs": [],
   "source": []
  },
  {
   "cell_type": "markdown",
   "metadata": {},
   "source": [
    "### DEBUGGING\n",
    "#### Warning in slurm output file after running trimmomatic:\n",
    "Exception in thread \"Thread-0\" java.lang.RuntimeException: Sequence and quality length don't match: 'AAAGGCATCGGTTGTCAGGTTCGTTGCTATGGGTGTACGTAACCATTTCAATTTTTCGGGGCGTAGGGCTTAGTTTCCACGCGTTCAATGAGAGCAGACCACCGTGAAGAGCTTTGGAATAGCACTTCAGTGGCTTCTGGCCATGACCTCC' vs 'F:FFFFF,FFF,F:FFFFF,FFFFFFFFFFFFFFFFFFFFFFFF::F:FFFFFFF:FFFFFFFFFFFFF:FFF,FFFFFFFFFFFFFFFFFFFFFF,FFF:F:F,FFFF,:F:FFFFF,FFF::FF,,F,:FF:,,FF:FF,:F:FFF,F,:F,FF,:FFFFFFFFF:F:,FFFF,,FFF,:,,,F,,:F:F:::,,FF,:F,FF,:F:FFF:FFFFFF:FFFFFFFFFFFFFF'\n",
    "\tat org.usadellab.trimmomatic.fastq.FastqRecord.<init>(FastqRecord.java:25)\n",
    "\tat org.usadellab.trimmomatic.fastq.FastqParser.parseOne(FastqParser.java:89)\n",
    "\tat org.usadellab.trimmomatic.fastq.FastqParser.next(FastqParser.java:179)\n",
    "\tat org.usadellab.trimmomatic.threading.ParserWorker.run(ParserWorker.java:42)\n",
    "\tat java.base/java.lang.Thread.run(Thread.java:1570)\n",
    "Exception in thread \"Thread-1\" java.lang.RuntimeException: Sequence and quality length don't match: 'GGGGGGGGGGGGGGGGGGGGGTGGGGTAGGGTTTGTATAGTGGTTGGGGTGGGGGGAGTATTGGTTGGGGGGGGGGGGGGGGGGGGGGGGGGGGGGGGGGGGGGGGGGGGGGGGGGGGGGGGGGGGGGGGGGGGGGGGGGGGGGGGGGGGGTCACACATAAGCAACATTTCGAAGGGTATGGTGATTTGGAATGACAAGAGTGTAAGATCGTAAGAGCGTCGTGAAGGGAAAGA' vs ',:FF:F,:FF,FFFFF:FFFFF,:FFFF,FF,,FF::,,:F:,:FF::,FFFF,F:FF:,F:FFFFFFF,F,FFFFF,,FFF:FF,::FF,FF,:F:F:F,FFFF,F,FFFFFFF,::F,FFFFF,F,,FFF:F,:,FFFF,F,,,FFFFF'\n",
    "\tat org.usadellab.trimmomatic.fastq.FastqRecord.<init>(FastqRecord.java:25)\n",
    "\tat org.usadellab.trimmomatic.fastq.FastqParser.parseOne(FastqParser.java:89)\n",
    "\tat org.usadellab.trimmomatic.fastq.FastqParser.next(FastqParser.java:179)\n",
    "\tat org.usadellab.trimmomatic.threading.ParserWorker.run(ParserWorker.java:42)\n",
    "\tat java.base/java.lang.Thread.run(Thread.java:1570)\n",
    "\n",
    "##### Debugging\n",
    "bioawk -cfastx 'length($seq) != length($qual)' RAWDATA/SRR23378605_1.fq.gz |wc\n",
    "- output: 0    0    0\n",
    "- The lengths are not different, so look into the file \n",
    "\n",
    "\n",
    "(FastqDump) [smomw681@nesh-login3 DATA]$ zgrep -A 3 \"AAAGGCATCGGTTGTCAGGTTCGTTGCTATGGGTGTACGTAACCATTTCAATTTTTCGGGGCGTAGGGCTTAGTTTCCACGCGTTCAATGAGAGCAGACCACCGTGAAGAGCTTTGGAATAGCACTTCAGTGGCTTCTGGCCATGACCTCC\" RAWDATA/SRR23378605_1.fastq.gz\n",
    "AAAGGCATCGGTTGTCAGGTTCGTTGCTATGGGTGTACGTAACCATTTCAATTTTTCGGGGCGTAGGGCTTAGTTTCCACGCGTTCAATGAGAGCAGACCACCGTGAAGAGCTTTGGAATAGCACTTCAGTGGCTTCTGGCCATGACCTCC\n",
    "+SRR23378605.25279883 HWI-A00245_BSF_0734:2:2119:9064:32503 length=151\n",
    "F:FFFFF,FFF,F:FFFFF,FFFFFFFFFFFFFFFFFFFFFFFF::F:FFFFFFF:FFFFFFFFFFFFF:FFF,FFFFFFFFFFFFFFFFFFFFFF,FFF:F:F,FFFF,:F:\n",
    "\n",
    "(FastqDump) [smomw681@nesh-login3 DATA]$ zgrep -A 3 \"GGGGGGGGGGGGGGGGGGGGGTGGGGTAGGGTTTGTATAGTGGTTGGGGTGGGGGGAGTATTGGTTGGGGGGGGGGGGGGGGGGGGGGGGGGGGGGGGGGGGGGGGGGGGGGGGGGGGGGGGGGGGGGGGGGGGGGGGGGGGGGGGGGGGGTCACACATAAGCAACATTTCGAAGGGTATGGTGATTTGGAATGACAAGAGTGTAAGATCGTAAGAGCGTCGTGAAGGGAAAGA\" RAWDATA/SRR23378605_1.fastq.gz\n",
    "gzip: RAWDATA/SRR23378605_1.fastq.gz: invalid compressed data--format violated\n"
   ]
  }
 ],
 "metadata": {
  "language_info": {
   "name": "python"
  }
 },
 "nbformat": 4,
 "nbformat_minor": 2
}
