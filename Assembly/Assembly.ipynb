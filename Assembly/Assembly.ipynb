{
 "cells": [
  {
   "cell_type": "markdown",
   "metadata": {},
   "source": [
    "# Assembly steps\n",
    "\n",
    "- Conda environment name: Assembly\n",
    "\n",
    "- primarly for the illumina runs, paired-end sequences\n",
    "- Steps are: \n",
    "    - QC with trimmomatic\n",
    "        - bash script: Trimmomatic_QC.sh\n",
    "    - PHIX filtering with bbmap\n",
    "    - error correction with tedpole (from bbmap package)\n",
    "    - assembly with metaSPAdes"
   ]
  },
  {
   "cell_type": "code",
   "execution_count": null,
   "metadata": {
    "vscode": {
     "languageId": "plaintext"
    }
   },
   "outputs": [],
   "source": [
    "module load gcc12-env/12.3.0\n",
    "module load miniconda3/24.11.1\n",
    "\n",
    "cd $WORK/DATA\n",
    "mkdir QCed_DATA PHIX_FILTERED ERROR_CORRECTED ASSEMBLIES"
   ]
  },
  {
   "cell_type": "code",
   "execution_count": null,
   "metadata": {
    "vscode": {
     "languageId": "plaintext"
    }
   },
   "outputs": [],
   "source": [
    "TrimmomaticPE: Completed successfully"
   ]
  }
 ],
 "metadata": {
  "language_info": {
   "name": "python"
  }
 },
 "nbformat": 4,
 "nbformat_minor": 2
}
