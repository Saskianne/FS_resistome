{
 "cells": [
  {
   "cell_type": "markdown",
   "metadata": {},
   "source": [
    "# Find the primers 🔎🐠\n",
    "\n",
    "The goal is to have a list of commercial/costomized primers for PCR and qPCR for ARG detection and amplicon sequencing. \n",
    "The excel table is called # \"primers_ARGs.xlxs\" and will be uploaded in the geomar cloud. "
   ]
  },
  {
   "cell_type": "code",
   "execution_count": null,
   "metadata": {
    "vscode": {
     "languageId": "plaintext"
    }
   },
   "outputs": [],
   "source": [
    "## Which database/tools for ARGs search are there?\n",
    "- NCBI\n",
    "- Resfinder\n",
    "- CARD\n",
    "- AMRFinderPlus\n",
    "- MGEfinder\n",
    "- BacMet databases"
   ]
  },
  {
   "cell_type": "code",
   "execution_count": null,
   "metadata": {
    "vscode": {
     "languageId": "plaintext"
    }
   },
   "outputs": [],
   "source": [
    "## "
   ]
  },
  {
   "cell_type": "markdown",
   "metadata": {},
   "source": [
    "## References\n",
    "\n",
    "- Feng et al. (2021), Multiplexed Target Enrichment Enables Efficient and In-Depth Analysis of Antimicrobial Resistome in Metagenomes : https://doi.org/10.1128/spectrum.02297-22\n",
    "    - Amplicon sequencing is more sensitive\n"
   ]
  }
 ],
 "metadata": {
  "language_info": {
   "name": "python"
  }
 },
 "nbformat": 4,
 "nbformat_minor": 2
}
