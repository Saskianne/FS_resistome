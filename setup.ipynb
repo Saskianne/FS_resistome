{
 "cells": [
  {
   "cell_type": "markdown",
   "metadata": {},
   "source": [
    "## Set Up\n",
    "- access to HPC system of CAU\n",
    "- set up conda environments for the bioinformatic pipelines\n"
   ]
  },
  {
   "cell_type": "markdown",
   "metadata": {},
   "source": [
    "# Installation of SSH client\n",
    "Bitvise SSH Client\n",
    "Host: nesh-login.rz.uni-kiel.de\n",
    "Port: 22\n",
    "Username: smomw681\n",
    "Initial method: password\n",
    "- Enter password and log in \n",
    "-> access to SFTP and terminal directly connected the HPC system\n",
    "\n",
    "Acoount_login: \n",
    "\n",
    "$WORK quota set to 10 TB (hard), 9 TB (soft) \n",
    "\n",
    "Absolute path to my storage: /gxfs_work/geomar/smomw681\n"
   ]
  },
  {
   "cell_type": "markdown",
   "metadata": {},
   "source": [
    "# Set up of required environment\n",
    "The conda package is already installed in the working directory of the smomw681. \n",
    "Conda environments for each of the pipeline are required, containing following bioconda, other packages and modules:\n",
    "\n",
    "\n"
   ]
  },
  {
   "cell_type": "code",
   "execution_count": null,
   "metadata": {
    "vscode": {
     "languageId": "plaintext"
    }
   },
   "outputs": [],
   "source": [
    "# For each and every enviroments: \n",
    "    module load gcc12-env/12.3.0\n",
    "    module load miniconda3/24.11.1\n",
    "\n",
    "# Preprocessing: \n",
    "    conda create --name FastqDump \n",
    "    conda activate FastqDump\n",
    "    # basic modules loaded\n",
    "    conda install bioconda::sra-tools -y\n",
    "    conda install bioconda::parallel-fastq-dump -y \n",
    "\n",
    "# Assembly\n",
    "    conda create --name Assembly\n",
    "    conda activate Assembly\n",
    "    conda install bioconda::spades -y\n",
    "\n",
    "    \n",
    "- AntiSMASH\n",
    "- Deep ARG"
   ]
  }
 ],
 "metadata": {
  "language_info": {
   "name": "python"
  }
 },
 "nbformat": 4,
 "nbformat_minor": 2
}
