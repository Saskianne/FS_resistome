{
 "cells": [
  {
   "cell_type": "markdown",
   "metadata": {},
   "source": [
    "# Set Up\n",
    "- access to HPC system of CAU\n",
    "- set up conda environments for the bioinformatic pipelines\n"
   ]
  },
  {
   "cell_type": "markdown",
   "metadata": {},
   "source": [
    "## Installation of SSH client\n",
    "## Log-in steps\n",
    "- Bitvise SSH Client\n",
    "- Host: nesh-login.rz.uni-kiel.de\n",
    "- Port: 22\n",
    "- Username: smomw681\n",
    "- Initial method: password\n",
    "- Enter password and log in \n",
    "-> access to SFTP and terminal directly connected the HPC system\n"
   ]
  },
  {
   "cell_type": "code",
   "execution_count": null,
   "metadata": {
    "vscode": {
     "languageId": "plaintext"
    }
   },
   "outputs": [],
   "source": [
    "# Alternatively:\n",
    "ssh -X smomw681@nesh-login.rz.uni-kiel.de\n",
    "login "
   ]
  },
  {
   "cell_type": "markdown",
   "metadata": {},
   "source": [
    "If there is any problem:  hpcsupport@rz.uni-kiel.de\n",
    "\n",
    "The oparating system is Rocky Linux 8.6 with default system complier gcc v8.5.0\n",
    "\n",
    "After Acoount_login: \n",
    "\n",
    "$WORK quota set to 10 TB (hard), 9 TB (soft) \n",
    "\n",
    "Absolute path to my storage: /gxfs_work/geomar/smomw681\n",
    "Relative path: $WORK\n",
    "\n",
    "\n",
    "Before doing anything else, load gcc complier and conda modules:"
   ]
  },
  {
   "cell_type": "code",
   "execution_count": null,
   "metadata": {
    "vscode": {
     "languageId": "plaintext"
    }
   },
   "outputs": [],
   "source": [
    "cd $WORK\n",
    "module load gcc12-env/12.3.0\n",
    "module load miniconda3/24.11.1\n",
    "\n",
    "# show all available software modules\n",
    "module all\n",
    "\n",
    "# show all currently available modules in the currently active environment\n",
    "module avail\n",
    "\n",
    "# some possibly useful modules\n",
    "module load cluster-env/default\n",
    "module load matlab-geomar/R2023a"
   ]
  },
  {
   "cell_type": "markdown",
   "metadata": {},
   "source": [
    "## Access control \n"
   ]
  },
  {
   "cell_type": "code",
   "execution_count": null,
   "metadata": {
    "vscode": {
     "languageId": "plaintext"
    }
   },
   "outputs": [],
   "source": [
    "ls -l /gxfs_work/<account to access>/\n",
    "ls -l /gxfs_work/cau | grep <account to access>\n",
    "getfacl /gxfs_work/cau/<account to access>/\n",
    "\n",
    "setfacl -m u:<me> /gxfs_work/cau/<account to access>\n",
    "getfacl /gxfs_work/cau/<account to access>/"
   ]
  },
  {
   "cell_type": "markdown",
   "metadata": {},
   "source": [
    "## Set up of required environment\n",
    "The conda package is already installed in the working directory of the smomw681. \n",
    "Conda environments for each of the pipeline are required, containing following bioconda, other packages and modules:\n",
    "\n"
   ]
  },
  {
   "cell_type": "code",
   "execution_count": null,
   "metadata": {
    "vscode": {
     "languageId": "plaintext"
    }
   },
   "outputs": [],
   "source": [
    "# For each and every enviroments: \n",
    "    module load gcc12-env/12.3.0\n",
    "    module load miniconda3/24.11.1\n",
    "\n",
    "# list of my conda environments:\n",
    "conda env list\n",
    "\n",
    "# list of packages in the environment\n",
    "conda list -n myenv\n",
    "\n",
    "#update every packages in the environment\n",
    "conda update --all -y\n",
    "\n",
    "# Preprocessing: \n",
    "    conda create --name FastqDump -y\n",
    "    conda activate FastqDump\n",
    "    # basic modules loaded\n",
    "    conda install bioconda::sra-tools=3.2.0 -y\n",
    "    conda install bioconda::parallel-fastq-dump=0.6.7 -y \n",
    "    conda install conda-forge::parallel=20241222 -y\n",
    "    conda install conda-forge::ncbi-datasets-cli=16.40.1 -y\n",
    "    conda install bioconda::ncbi-genome-download=0.3.3 -y\n",
    "\n",
    "# Assembly\n",
    "    conda create --name Assembly -y \n",
    "    conda activate Assembly    \n",
    "    conda install conda-forge::libgcc-ng=14.2.0     # for the current version of spades and bbmap\n",
    "    conda install bioconda::spades=4.0.0 -y        \n",
    "    conda install bioconda::trimmomatic=0.39 -y  \n",
    "    conda install bioconda::bbmap=39.15 -y        \n",
    "    conda install conda-forge::pigz=2.8 -y\n",
    "    \n",
    "# PacBio_Assembly\n",
    "    conda create -n PacBio_Assembly\n",
    "    conda activate PacBio_Assembly\n",
    "    conda install bioconda::wtdbg=2.5 -y\n",
    "    conda install bioconda::quast=5.3.0 -y\n",
    "    conda install bioconda::flye=2.9.5 -y\n",
    "    conda install bioconda::canu=2.3 -y\n",
    "    conda install bioconda::unicycler=0.5.1 -y\n",
    "    conda install bioconda::fastqc=0.12.1 -y \n",
    "    conda install bioconda::multiqc=1.27.1 -y\n",
    "    conda install conda-forge::parallel=20241222 -y\n",
    "    \n",
    "# AntiSMASH\n",
    "    conda create --name AntiSMASH\n",
    "    conda activate AntiSMASH\n",
    "    conda install conda-forge::scikit-learn=1.6.1 -y\n",
    "    conda install conda-forge::icu=73.2 -y\n",
    "       # - current : 75.1 # for bioconda::meme\n",
    "    conda install python=3.10\n",
    "       # - current : 3.13.1\n",
    "    conda install bioconda::meme=5.8.5 -y\n",
    "    conda install hmmer2 hmmer diamond fasttree prodigal blast\n",
    "    conda install bioconda::antismash -y\n",
    "\n",
    "    # It didn't work so start from the scratch\n",
    "    conda remove -n ENV_NAME --all\n",
    "    conda create --name AntiSMASH\n",
    "    conda activate AntiSMASH\n",
    "    #load modules\n",
    "    conda install bioconda::antismash -y \n",
    "    # error: Could not solve for environment specs\n",
    "The following packages are incompatible\n",
    "└─ antismash is not installable because there are no viable options\n",
    "   ├─ antismash [4.0.1|4.0.2|4.1.0] would require\n",
    "   │  └─ scikit-learn 0.18.2 , which does not exist (perhaps a missing channel);\n",
    "   ├─ antismash 4.2.0 would require\n",
    "   │  └─ scikit-learn 0.18.* , which does not exist (perhaps a missing channel);\n",
    "   ├─ antismash 4.2.0 would require\n",
    "   │  └─ icu >=64.2,<65.0a0 , which does not exist (perhaps a missing channel);\n",
    "   ├─ antismash [5.1.1|5.1.2|...|6.1.1] would require\n",
    "   │  └─ pyscss, which does not exist (perhaps a missing channel);\n",
    "   └─ antismash 7.1.0 would require\n",
    "      └─ libsass, which does not exist (perhaps a missing channel).    \n",
    "    conda install conda-forge::scikit-learn=1.6.1 -y \n",
    "    # but removed it because it isn't recognized\n",
    "    conda install conda-forge::libsass=0.22.0 -y\n",
    "    conda install conda-forge/label/python_rc::_python_rc -y\n",
    "    conda install python=3.10 -y\n",
    "    conda install bioconda::antismash=7.1.0 -y \n",
    "    download-antismash-databases\n",
    "    conda install hmmer2 hmmer diamond fasttree prodigal blast\n",
    "    # antismash my_input.gbk # for use\n",
    "\n",
    "\n",
    "# Deep ARG\n",
    "    conda create --name DeepARG\n",
    "    conda activate DeepARG\n",
    "    conda install bioconda::deeparg=1.0.4 -y\n",
    "\n",
    "\n",
    "# Check where a package/module is coming from:\n",
    "which\n",
    "\n",
    "# To exit from the module:\n",
    "conda deactivate"
   ]
  }
 ],
 "metadata": {
  "language_info": {
   "name": "python"
  }
 },
 "nbformat": 4,
 "nbformat_minor": 2
}
