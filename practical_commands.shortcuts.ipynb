{
 "cells": [
  {
   "cell_type": "markdown",
   "metadata": {},
   "source": []
  },
  {
   "cell_type": "code",
   "execution_count": null,
   "metadata": {
    "vscode": {
     "languageId": "plaintext"
    }
   },
   "outputs": [],
   "source": [
    "# remove all files except for *.pdf\n",
    "shopt -s extglob\n",
    "ls !(*.pdf)     # but ensure first what you are going to remove \n",
    "rm !(*.pdf)     # remove"
   ]
  },
  {
   "cell_type": "code",
   "execution_count": null,
   "metadata": {
    "vscode": {
     "languageId": "plaintext"
    }
   },
   "outputs": [],
   "source": [
    "# remove or expand the string with matching pattern \n",
    "${parameter#word}   # prefix deleted before the shortest matching pattern\n",
    "${parameter##word}  # prefix deleted before the longest matching pattern\n",
    "\n",
    "${parameter%word}   # suffix deleted after the shortest matching pattern \n",
    "${parameter%%word}  # suffix deleted after the longest matching pattern \n",
    "\n"
   ]
  },
  {
   "cell_type": "code",
   "execution_count": null,
   "metadata": {
    "vscode": {
     "languageId": "plaintext"
    }
   },
   "outputs": [],
   "source": [
    "# The operators we are using here are:\n",
    "\n",
    "> Syntax    # file_descriptoropt > file_name\n",
    ">& Syntax   # file_descriptoropt >& file_descriptor\n",
    "&> Syntax   # &> file_name\n",
    "# If the file descriptor is omitted, the default is 0 (stdin) for input, or 1 (stdout) for output. 2 means stderr.\n",
    "# So we have:\n",
    "# >name means 1>name -- redirect stdout to the file name\n",
    "# &>name is like 1>name 2>name -- redirect stdout and stderr to the file name (however name is only opened once; if you actually wrote 1>name 2>name it'd try to open name twice and perhaps malfunction)."
   ]
  },
  {
   "cell_type": "markdown",
   "metadata": {},
   "source": [
    "#### cat <<EOF  Syntax usage\n",
    "1.  Assign multi-line string to a shell variable\n",
    "\n",
    "2. Pass multi-line string to a file in Bash\n",
    "\n",
    "3. Pass multi-line string to a pipe in Bash"
   ]
  },
  {
   "cell_type": "code",
   "execution_count": null,
   "metadata": {
    "vscode": {
     "languageId": "plaintext"
    }
   },
   "outputs": [],
   "source": [
    "# Example for 1\n",
    "$ sql=$(cat <<EOF\n",
    "SELECT foo, bar FROM db\n",
    "WHERE foo='baz'\n",
    "EOF\n",
    ")\n",
    "# Verifying by using \n",
    "echo -e \"$sql\" # then, \n",
    "SELECT foo, bar FROM db\n",
    "WHERE foo='baz'\n",
    "\n",
    "# Example for 2\n",
    "$ cat <<EOF > print.sh\n",
    "#!/bin/bash\n",
    "echo \\$PWD\n",
    "echo $PWD\n",
    "EOF\n",
    "#The print.sh file now contains:\n",
    "#!/bin/bash\n",
    "echo $PWD\n",
    "echo /home/user\n",
    "\n",
    "\n",
    "# Example for 3\n",
    "$ cat <<EOF | grep 'b' | tee b.txt\n",
    "foo\n",
    "bar\n",
    "baz\n",
    "EOF\n",
    "# The b.txt file contains bar and baz lines. The same output is printed to stdout."
   ]
  },
  {
   "cell_type": "markdown",
   "metadata": {},
   "source": [
    "Bash Regex Intro\n",
    "https://tldp.org/LDP/abs/html/x17129.html"
   ]
  }
 ],
 "metadata": {
  "language_info": {
   "name": "python"
  }
 },
 "nbformat": 4,
 "nbformat_minor": 2
}
