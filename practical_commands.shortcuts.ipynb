{
 "cells": [
  {
   "cell_type": "markdown",
   "metadata": {},
   "source": []
  },
  {
   "cell_type": "code",
   "execution_count": null,
   "metadata": {
    "vscode": {
     "languageId": "plaintext"
    }
   },
   "outputs": [],
   "source": [
    "# remove all files except for *.pdf\n",
    "shopt -s extglob\n",
    "ls !(*.pdf)     # but ensure first what you are going to remove \n",
    "rm !(*.pdf)     # remove"
   ]
  },
  {
   "cell_type": "code",
   "execution_count": null,
   "metadata": {
    "vscode": {
     "languageId": "plaintext"
    }
   },
   "outputs": [],
   "source": [
    "# remove or expand the string with matching pattern \n",
    "${parameter#word}   # prefix deleted before the shortest matching pattern\n",
    "${parameter##word}  # prefix deleted before the longest matching pattern\n",
    "\n",
    "${parameter%word}   # suffix deleted after the shortest matching pattern \n",
    "${parameter%%word}  # suffix deleted after the longest matching pattern \n",
    "\n"
   ]
  }
 ],
 "metadata": {
  "language_info": {
   "name": "python"
  }
 },
 "nbformat": 4,
 "nbformat_minor": 2
}
