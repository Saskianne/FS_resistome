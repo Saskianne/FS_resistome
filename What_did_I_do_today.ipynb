{
 "cells": [
  {
   "cell_type": "markdown",
   "metadata": {},
   "source": [
    "# What did I do today?\n",
    "- a document to keep track of time and record progresses of the day\n",
    "- created on 20.2.2025"
   ]
  },
  {
   "cell_type": "markdown",
   "metadata": {},
   "source": [
    "2025.02.20\n",
    "- check PhiX removal run\n",
    "    - all successful\n",
    "- modify bash script for error correction and batch\n",
    "- check PacBio seq assembly with wtdbg\n",
    "    - adjust the bash script"
   ]
  }
 ],
 "metadata": {
  "language_info": {
   "name": "python"
  }
 },
 "nbformat": 4,
 "nbformat_minor": 2
}
