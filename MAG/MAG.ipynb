{
 "cells": [
  {
   "cell_type": "markdown",
   "metadata": {},
   "source": [
    "# Metagenomic assembled genome construction steps\n",
    "\n",
    "From assembled contigs and scaffolds from short and long reads \\\n",
    "conda environment: MAG_Assembly\n"
   ]
  },
  {
   "cell_type": "code",
   "execution_count": null,
   "metadata": {
    "vscode": {
     "languageId": "plaintext"
    }
   },
   "outputs": [],
   "source": [
    "# Basic modules and environments required for the scripts\n",
    "module load gcc12-env/12.3.0\n",
    "module load miniconda3/24.11.1\n",
    "conda activate MAG\n",
    "cd $WORK/DATA\n",
    "\n",
    "# if required also activate perl locally \n",
    "module load gcc/12.3.0\n",
    "source ~/perl5/perlbrew/etc/bashrc\n",
    "perlbrew switch perl-5.38.0\n"
   ]
  },
  {
   "cell_type": "markdown",
   "metadata": {},
   "source": [
    "### First steps\n",
    "1. Change the name of the assembly output .fasta files\n",
    "    - contigs.fasta => SRR..._contigs.fasta\n",
    "    - scaffolds.fasta => SRR..._scaffolds.fasta\n",
    "2. Clean the folders and remove everything else than fasta files\n",
    "3. Filter the contigs by minimum length of 500bp\n",
    "    - script no. 3_1\n",
    "    - outputs: SRR..._contigs_min500.fasta\n",
    "4. Rename the contigs ID\n",
    "    - script no. 3_2\n",
    "    - for contigs: >NODE... => >SRR_ctg(no.)\n",
    "    - outputs: SRR.._contigs_min500_renamed.fasta\n",
    "    - for scaffolds: >NODE... => >SRR_scaffolds_ctg(no.)"
   ]
  },
  {
   "cell_type": "code",
   "execution_count": null,
   "metadata": {
    "vscode": {
     "languageId": "plaintext"
    }
   },
   "outputs": [],
   "source": [
    "\n",
    "# 1. Rename files\n",
    "# Then rename teh contigs and scaffold files to distinguish them\n",
    "cd /gxfs_work/geomar/smomw681/DATA\n",
    "dir1=\"/gxfs_work/geomar/smomw681/DATA/ASSEMBLIES\"\n",
    "DIRS=(${dir1}/*_SPADessembly)\n",
    "for dir in ${DIRS[@]};do\n",
    "    cd $dir\n",
    "    pwd\n",
    "    base=$(basename $dir \"_SPADessembly\")\n",
    "    mv contigs.fasta ${base}_contigs.fasta\n",
    "    mv scaffolds.fasta ${base}_scaffolds.fasta\n",
    "done\n",
    "\n",
    "# 2. Clean assembly folders:\n",
    "# first remove every unnecessary files of assembly except for contigs and scaffolds\n",
    "cd /gxfs_work/geomar/smomw681/DATA\n",
    "dir1=\"/gxfs_work/geomar/smomw681/DATA/ASSEMBLIES\"\n",
    "FILES=(${dir1}/*_SPADessembly)\n",
    "for file in ${FILES[@]};do\n",
    "    if $file \n",
    "    find $file -mindepth 1 ! \\\n",
    "    -name \"*_contigs.fasta\" ! -name \"*_scaffolds.fasta\" -exec rm -rf {} +\n",
    "    echo \"Files cleaned for the directory $file\"\n",
    "    fi\n",
    "done\n"
   ]
  },
  {
   "cell_type": "markdown",
   "metadata": {},
   "source": [
    "### MAG assembly from contigs\n",
    "1. DeepMicroClass: Classify contigs by their origin\n",
    "    - script no. 3_3\n",
    "2. Extract the contigs from prokaryotes\n",
    "    - script no. 3_4\n",
    "    - Make statistics out it \n",
    "        - script no. 3_4_0\n",
    "2. Prodigal: prokaryotic gene prediction \n",
    "    - script no. 3_5\n",
    "\n",
    "3. BBmap: map error corrected reads to assembled contigs and get coverage information\n",
    "    - script no. 3_6\n",
    "    - alignment mapping to .bam \n",
    "    - sort bam to .sorted.bam\n",
    "    - generate coverage file for contigs with sorted bam file\n",
    "\n",
    "4. MetaBat2: MAG assembly\n",
    "    - script no. 3_7\n",
    "    - 3_7: MAG assembly using prokaryotic contigs and coverage file\n",
    "    - 3_7_1 **?**: maybe rerun with all contigs -> also mapping info required \n"
   ]
  },
  {
   "cell_type": "markdown",
   "metadata": {},
   "source": [
    "### MAG to annotation and coverage\n",
    "\n",
    "1. CheckM: check the quality of MAGs\n",
    "    - 3_8_0\n",
    "    - Filter criteria: min. completeness 50% and contamination max. 5%"
   ]
  },
  {
   "cell_type": "code",
   "execution_count": null,
   "metadata": {
    "vscode": {
     "languageId": "plaintext"
    }
   },
   "outputs": [],
   "source": [
    "## How to use perl\n",
    "# Load additional module and install perl locally\n",
    "module load gcc/12.3.0\n",
    "curl -L https://install.perlbrew.pl | bash\n",
    "source ~/perl5/perlbrew/etc/bashrc\n",
    "perlbrew install --notest perl-5.38.0\n",
    "#activate the perl to use\n",
    "source ~/perl5/perlbrew/etc/bashrc\n",
    "perlbrew list\n",
    "perlbrew switch perl-5.38.0\n",
    "# install cpanm to install other modules required, optionally check the module\n",
    "perlbrew install-cpanm\n",
    "cpanm \"autodie\"\n",
    "perl -e \"use autodie\""
   ]
  },
  {
   "cell_type": "markdown",
   "metadata": {},
   "source": [
    "## How to use python env\n",
    "module load gcc12-env/12.3.0\n",
    "module load python/3.11.5\n",
    "# create a python environment\n",
    "mkdir $HOME/my_python_env\n",
    "python -m venv $HOME/my_python_env/my_env\n",
    "# install package into env\n",
    "source $HOME/my_python_env/my_env/bin/activate\n",
    "module load gcc/12.3.0\n",
    "pip install ...\n",
    "deactivate\n",
    "# Use the installed package \n",
    "module load gcc12-env/12.3.0\n",
    "source $HOME/my_python_env/my_env/bin/activate\n",
    "module load python/3.11.5\n",
    "...\n",
    "deactivate"
   ]
  },
  {
   "cell_type": "markdown",
   "metadata": {},
   "source": [
    "##### Debugging:\n",
    "- Problem with installing packages\n",
    "    -  It was a problem of the conda solver and I changed it from default to libmamba -> *it worked!*"
   ]
  }
 ],
 "metadata": {
  "language_info": {
   "name": "python"
  }
 },
 "nbformat": 4,
 "nbformat_minor": 2
}
