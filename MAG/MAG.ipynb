{
 "cells": [
  {
   "cell_type": "markdown",
   "metadata": {},
   "source": [
    "# Metagenomic assembled genome construction steps\n",
    "\n",
    "From assembled contigs and scaffolds from short and long reads \\\n",
    "conda environment: MAG_Assembly\n"
   ]
  },
  {
   "cell_type": "code",
   "execution_count": null,
   "metadata": {
    "vscode": {
     "languageId": "plaintext"
    }
   },
   "outputs": [],
   "source": [
    "module load gcc12-env/12.3.0\n",
    "module load miniconda3/24.11.1\n",
    "conda activate MAG\n",
    "cd $WORK/DATA\n",
    "\n",
    "# Clean folders:\n",
    "# first remove every unnecessary files of assembly except for contigs and scaffolds\n",
    "cd /gxfs_work/geomar/smomw681/DATA\n",
    "dir1=\"/gxfs_work/geomar/smomw681/DATA/ASSEMBLIES\"\n",
    "FILES=(${dir1}/*_SPADessembly)\n",
    "for file in ${FILES[@]};do\n",
    "    find $file -mindepth 1 ! \\\n",
    "    -name \"contigs.fasta\" ! -name \"scaffolds.fasta\" -exec rm -rf {} +\n",
    "    echo \"Files cleaned for the directory $file\"\n",
    "done\n",
    "\n",
    "# Rename files\n",
    "# Then rename teh contigs and scaffold files to distinguish them\n",
    "cd /gxfs_work/geomar/smomw681/DATA\n",
    "dir1=\"/gxfs_work/geomar/smomw681/DATA/ASSEMBLIES\"\n",
    "DIRS=(${dir1}/*_SPADessembly)\n",
    "for dir in ${DIRS[@]};do\n",
    "    cd $dir\n",
    "    pwd\n",
    "    base=$(basename $dir \"_SPADessembly\")\n",
    "    mv contigs.fasta ${base}_contigs.fasta\n",
    "    mv scaffolds.fasta ${base}_scaffolds.fasta\n",
    "done\n"
   ]
  },
  {
   "cell_type": "markdown",
   "metadata": {},
   "source": []
  },
  {
   "cell_type": "markdown",
   "metadata": {},
   "source": [
    "##### Debugging:\n",
    "- Problem with installing packages\n",
    "    -  It was a problem of the conda solver and I changed it from default to libmamba -> *it worked!*"
   ]
  }
 ],
 "metadata": {
  "language_info": {
   "name": "python"
  }
 },
 "nbformat": 4,
 "nbformat_minor": 2
}
