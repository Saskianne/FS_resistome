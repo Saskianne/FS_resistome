{
 "cells": [
  {
   "cell_type": "markdown",
   "metadata": {},
   "source": [
    "# Download the metagenome files\n",
    "using fastqdump\n",
    "\n",
    "- env name: FastqDump\n",
    "    - 28 NCBI samples\n",
    "- batch script: Run_fastqDump_Download_2.sh\n"
   ]
  },
  {
   "cell_type": "code",
   "execution_count": null,
   "metadata": {
    "vscode": {
     "languageId": "plaintext"
    }
   },
   "outputs": [],
   "source": [
    "# create a srr list file\n",
    "cat > srr_ncbi_list.txt\n",
    "SRR10983239\n",
    "SRR10983240\n",
    "SRR10983241\n",
    "SRR10983242\n",
    "SRR23378604\n",
    "SRR23378605\n",
    "SRR13639653\n",
    "SRR13639654\n",
    "SRR13639655\n",
    "SRR15145660\n",
    "SRR15145661\n",
    "SRR15145662\n",
    "SRR15145664\n",
    "SRR15145665\n",
    "SRR15145666\n",
    "SRR6667231\n",
    "ERR2732973\n",
    "ERR2732993\n",
    "ERR2732999\n",
    "SRR19548523\n",
    "SRR19548524\n",
    "SRR19548525\n",
    "SRR19548526\n",
    "SRR19548527\n",
    "SRR19548528\n",
    "SRR10281034\n",
    "SRR10281038\n",
    "SRR15145663\n",
    "\n",
    "# ctrl+d"
   ]
  },
  {
   "cell_type": "markdown",
   "metadata": {},
   "source": [
    "Use the batch script to submit the job \n",
    "job no. : 14293791"
   ]
  }
 ],
 "metadata": {
  "language_info": {
   "name": "python"
  }
 },
 "nbformat": 4,
 "nbformat_minor": 2
}
