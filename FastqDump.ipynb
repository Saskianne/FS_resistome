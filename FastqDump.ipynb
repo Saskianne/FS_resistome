{
 "cells": [
  {
   "cell_type": "markdown",
   "metadata": {},
   "source": [
    "# Download the metagenome files\n",
    "using fastqdump\n",
    "\n",
    "- env name: FastqDump\n",
    "    - 28 NCBI samples\n",
    "- batch script: Run_fastqDump_Download_2.sh\n"
   ]
  },
  {
   "cell_type": "code",
   "execution_count": null,
   "metadata": {
    "vscode": {
     "languageId": "plaintext"
    }
   },
   "outputs": [],
   "source": [
    "# create a srr list file\n",
    "cat > srr_ncbi_list.txt\n",
    "SRR10983239\n",
    "SRR10983240\n",
    "SRR10983241\n",
    "SRR10983242\n",
    "SRR23378604\n",
    "SRR23378605\n",
    "SRR13639653\n",
    "SRR13639654\n",
    "SRR13639655\n",
    "SRR15145660\n",
    "SRR15145661\n",
    "SRR15145662\n",
    "SRR15145664\n",
    "SRR15145665\n",
    "SRR15145666\n",
    "SRR6667231\n",
    "ERR2732973\n",
    "ERR2732993\n",
    "ERR2732999\n",
    "SRR19548523\n",
    "SRR19548524\n",
    "SRR19548525\n",
    "SRR19548526\n",
    "SRR19548527\n",
    "SRR19548528\n",
    "SRR10281034\n",
    "SRR10281038\n",
    "SRR15145663\n",
    "\n",
    "# ctrl+d"
   ]
  },
  {
   "cell_type": "markdown",
   "metadata": {},
   "source": [
    "Use the batch script to submit the job \n",
    "job no. : 14293880(run2), 14290847 (run1)"
   ]
  },
  {
   "cell_type": "code",
   "execution_count": null,
   "metadata": {
    "vscode": {
     "languageId": "plaintext"
    }
   },
   "outputs": [],
   "source": [
    "# cancel one job because both of them are working on the same file\n",
    "scancel 14290847\n",
    "# no errors upcoming until now"
   ]
  },
  {
   "cell_type": "markdown",
   "metadata": {},
   "source": [
    "The output file of the run1 says: \n",
    "\n",
    "cat SRRDownload_output.out\n",
    "START TIME:  date\n",
    "working with SRR19548526\n",
    "Read 164505 spots for SRR19548526\n",
    "Written 164505 spots for SRR19548526\n",
    "working with SRR19548527\n",
    "Rejected 4 READS because READLEN < 1\n",
    "Read 161582 spots for SRR19548527\n",
    "Written 161582 spots for SRR19548527\n",
    "working with SRR19548528\n",
    "Rejected 11 READS because READLEN < 1\n",
    "Read 176985 spots for SRR19548528\n",
    "Written 176985 spots for SRR19548528\n",
    "working with SRR19548523\n",
    "Read 178854 spots for SRR19548523\n",
    "Written 178854 spots for SRR19548523\n",
    "working with SRR19548524\n",
    "Read 123494 spots for SRR19548524\n",
    "Written 123494 spots for SRR19548524\n",
    "working with SRR19548525\n",
    "Read 169740 spots for SRR19548525\n",
    "Written 169740 spots for SRR19548525\n",
    "working with SRR13639653\n",
    "Read 54403448 spots for SRR13639653\n",
    "Written 54403448 spots for SRR13639653\n",
    "working with SRR13639654\n",
    "Read 102803491 spots for SRR13639654\n",
    "Written 102803491 spots for SRR13639654\n",
    "working with SRR13639655\n",
    "Read 67703477 spots for SRR13639655\n",
    "Written 67703477 spots for SRR13639655\n",
    "working with SRR10983239\n",
    "Read 345821 spots for SRR10983239\n",
    "Written 345821 spots for SRR10983239\n",
    "working with SRR10983240\n",
    "Read 418297 spots for SRR10983240\n",
    "Written 418297 spots for SRR10983240\n",
    "working with SRR10983241\n",
    "Read 402223 spots for SRR10983241\n",
    "Written 402223 spots for SRR10983241\n",
    "working with SRR10983242\n",
    "Read 499112 spots for SRR10983242\n",
    "Written 499112 spots for SRR10983242\n",
    "working with SRR23378604\n",
    "Read 161656712 spots for SRR23378604\n",
    "Written 161656712 spots for SRR23378604\n",
    "working with SRR23378605"
   ]
  },
  {
   "cell_type": "code",
   "execution_count": null,
   "metadata": {
    "vscode": {
     "languageId": "plaintext"
    }
   },
   "outputs": [],
   "source": [
    "# check the number of the files downloaded or downloading:\n",
    "ls_len=($(ls $WORK/DATA/RAWDATA))\n",
    " echo \"Number of files: ${#ls_len[@]}\"\n",
    " "
   ]
  }
 ],
 "metadata": {
  "language_info": {
   "name": "python"
  }
 },
 "nbformat": 4,
 "nbformat_minor": 2
}
