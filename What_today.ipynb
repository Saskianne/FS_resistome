{
 "cells": [
  {
   "cell_type": "markdown",
   "metadata": {},
   "source": [
    "# What did I do today?\n",
    "- a document to keep track of time and record progresses of the day\n",
    "- created on 20.2.2025"
   ]
  },
  {
   "cell_type": "markdown",
   "metadata": {},
   "source": [
    "**2025.02.20**\n",
    "- check PhiX removal run\n",
    "    - all successful\n",
    "- modify bash script for error correction and batch\n",
    "- check PacBio seq assembly with wtdbg and \n",
    "    - adjust the bash script and batched\n",
    "        - wtdbg script running\n",
    "        - canu still pending\n",
    "- Write script for a QC pipeline for every assembly steps- from raw to contigs\n",
    "    - halfway done\n"
   ]
  },
  {
   "cell_type": "markdown",
   "metadata": {},
   "source": [
    "**2025.02.21**\n",
    "- Check the runs\n",
    "    - wtdbg long read assembly completed\n",
    "    - Canu failed\n",
    "- Rerun and run remaining long read assembly pipelines\n",
    "    - Canu rerun with genome size 7Mb\n",
    "        - no circular DNA detected\n",
    "        - check\n",
    "    - wtdbg rerun with canu trimmed (+corrected) fasta.gz files\n",
    "    - Trycyler script set up \n",
    "- Short read QC"
   ]
  },
  {
   "cell_type": "markdown",
   "metadata": {},
   "source": [
    "**2025.02.26**\n",
    "- Last two days were course days of marine data literacy\n",
    "- Check the runs\n",
    "    - Canu run of reference failed due to script error (always check whether the path is correct!!!)\n",
    "    -  wtdbg2_alt run with Canu corrected fastq files are done and completed correctly\n",
    "        - **`Compare it with original!`**\n",
    "    - **Consideration**: rerun of metaFlye with corrected run\n",
    "        - it doesn't take so long and the script modification is short, so if there is some time to spare, then yes\n",
    "- Run scripts\n",
    "    - Canu_try run restarted with correct path\n",
    "    - QC for Illumina sequences on the way"
   ]
  },
  {
   "cell_type": "markdown",
   "metadata": {},
   "source": [
    "**2025.02.27**\n",
    "- Check the canu_try run\n",
    "    - failed due to the time limit of the script submitted by Canu\n",
    "- ReRun canu_try with ref \n",
    "    - The script modified with additional options for bigger memory and threads and hopefully it runs...\n",
    "    - flags were wrong, older documentation is shit... I hate Canu documentation and the pipeline structure already.... \n",
    "    - rerun with general option to increase the thread and memory\n",
    "        - But I cannot set the time limit for the jobs submitted by Canu... so fingers crossed\n",
    "- QC_all: QC for all short read runs \n",
    "    - for every steps (trim, filter, error correction, assembly)\n",
    "    - modify script so that it runs\n",
    "- set up conda environment for the MAG construction (MAG_Assembly)\n",
    "- set up conda environment for MAG_Analysis"
   ]
  },
  {
   "cell_type": "markdown",
   "metadata": {},
   "source": [
    "**2025.03.03**\n",
    "- QC_all rerun: for short read sequence\n",
    "- MAG construction\n",
    "    - clean assembly folders\n",
    "    - rename contigs and scaffold files\n",
    "    - filter contigs > 500 bp\n",
    "    \n"
   ]
  }
 ],
 "metadata": {
  "language_info": {
   "name": "python"
  }
 },
 "nbformat": 4,
 "nbformat_minor": 2
}
