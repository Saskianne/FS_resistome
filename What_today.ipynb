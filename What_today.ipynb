{
 "cells": [
  {
   "cell_type": "markdown",
   "metadata": {},
   "source": [
    "# What did I do today?\n",
    "- a document to keep track of time and record progresses of the day\n",
    "- created on 20.2.2025"
   ]
  },
  {
   "cell_type": "markdown",
   "metadata": {},
   "source": [
    "**2025.02.20**\n",
    "- check PhiX removal run\n",
    "    - all successful\n",
    "- modify bash script for error correction and batch\n",
    "- check PacBio seq assembly with wtdbg and \n",
    "    - adjust the bash script and batched\n",
    "        - wtdbg script running\n",
    "        - canu still pending\n",
    "- Write script for a QC pipeline for every assembly steps- from raw to contigs\n",
    "    - halfway done\n"
   ]
  },
  {
   "cell_type": "markdown",
   "metadata": {},
   "source": [
    "**2025.02.21**\n",
    "- Check the runs\n",
    "    - wtdbg long read assembly completed\n",
    "    - Canu failed\n",
    "- Rerun and run remaining long read assembly pipelines\n",
    "    - Canu rerun with genome size 7Mb\n",
    "        - no circular DNA detected\n",
    "        - check\n",
    "    - wtdbg rerun with canu trimmed (+corrected) fasta.gz files\n",
    "    - Trycyler script set up \n",
    "- Short read QC"
   ]
  },
  {
   "cell_type": "markdown",
   "metadata": {},
   "source": [
    "**2025.02.26**\n",
    "- Last two days were course days of marine data literacy\n",
    "- Check the runs\n",
    "    - Canu run of reference failed due to script error (always check whether the path is correct!!!)\n",
    "    -  wtdbg2_alt run with Canu corrected fastq files are done and completed correctly\n",
    "        - **`Compare it with original!`**\n",
    "    - **Consideration**: rerun of metaFlye with corrected run\n",
    "        - it doesn't take so long and the script modification is short, so if there is some time to spare, then yes\n",
    "- Run scripts\n",
    "    - Canu_try run restarted with correct path\n",
    "    - QC for Illumina sequences on the way"
   ]
  },
  {
   "cell_type": "markdown",
   "metadata": {},
   "source": [
    "**2025.02.27**\n",
    "- Check the canu_try run\n",
    "    - failed due to the time limit of the script submitted by Canu\n",
    "- ReRun canu_try with ref \n",
    "    - The script modified with additional options for bigger memory and threads and hopefully it runs...\n",
    "    - flags were wrong, older documentation is shit... I hate Canu documentation and the pipeline structure already.... \n",
    "    - rerun with general option to increase the thread and memory\n",
    "        - But I cannot set the time limit for the jobs submitted by Canu... so fingers crossed\n",
    "- QC_all: QC for all short read runs \n",
    "    - for every steps (trim, filter, error correction, assembly)\n",
    "    - modify script so that it runs\n",
    "- set up conda environment for the MAG construction (MAG_Assembly)\n",
    "- set up conda environment for MAG_Analysis"
   ]
  },
  {
   "cell_type": "markdown",
   "metadata": {},
   "source": [
    "**2025.03.03**\n",
    "- QC_all rerun: for short read sequence\n",
    "- MAG construction\n",
    "    - clean assembly folders\n",
    "    - rename contigs and scaffold files\n",
    "    - filter contigs > 500 bp\n",
    "- SPADes rerun because ca. 1/2 failed\n"
   ]
  },
  {
   "cell_type": "markdown",
   "metadata": {},
   "source": [
    "**2025.03.05**\n",
    "- SPADes\n",
    "    - There are few running longer due to bigger file size (SP_Part_2)\n",
    "        - cleaned files\n",
    "        - accidiently contigs.fasta and scaffolds.fasta files of early runs have been removed, but not they are not so important, so it is okay I guess. \n",
    "    - 2 failed due to time limit (SP_Part_3)\n",
    "        - rerun with bigger mem\n",
    "        - SRR ...62&66\n",
    "- MAG: Early runs (I will call them SP_Part_1)\n",
    "    - rename contigs\n",
    "    - Run through DeepMicroClass (DMC)"
   ]
  },
  {
   "cell_type": "markdown",
   "metadata": {},
   "source": [
    "**2025.03.06**\n",
    "- SPADes: SP_Part_3 failed again \n",
    "    - Error I can not understaaand\n",
    "    - Rerun them\n",
    "- MAG:\n",
    "    - SP_Part_1: DMC successful\n",
    "        - .tsv file as output\n",
    "        - Extract the Prokaryotes contigs\n",
    "        - Run prodigal on proks contigs\n",
    "    - SP_Part_2: \n",
    "        - rename the files and change the contig IDs\n",
    "        - Run DMC"
   ]
  },
  {
   "cell_type": "markdown",
   "metadata": {},
   "source": []
  }
 ],
 "metadata": {
  "language_info": {
   "name": "python"
  }
 },
 "nbformat": 4,
 "nbformat_minor": 2
}
