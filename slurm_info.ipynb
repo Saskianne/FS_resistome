{
 "cells": [
  {
   "cell_type": "markdown",
   "metadata": {},
   "source": [
    "# Batch processing: Slurm\n",
    "- allocating access to compute nodes\n",
    "- starting, executing and monitoring work on a set of allocated nodes\n",
    "- arbitrating contention of computing resources by managing a queue of pending jobs\n",
    "- No FIFO-basis, but multi-factor fair-share algorithm scheduling: user jobs based on the portion of the computing resources ()= allocated cores*seconds + main memory usage)\n"
   ]
  },
  {
   "cell_type": "code",
   "execution_count": null,
   "metadata": {
    "vscode": {
     "languageId": "plaintext"
    }
   },
   "outputs": [],
   "source": [
    "# List of own current usage and resulting shares\n",
    "sshare -U\n",
    "\n",
    "# submit a job script (resource requests about no. of nodes, cores per node, main memory or computation time)\n",
    "sbatch <jobscript>"
   ]
  },
  {
   "cell_type": "markdown",
   "metadata": {},
   "source": [
    "Every Job script begins with:\n",
    "#!/bin/bash\n",
    "#SBATCH\n",
    "Batch parameters are: \n"
   ]
  },
  {
   "cell_type": "code",
   "execution_count": null,
   "metadata": {
    "vscode": {
     "languageId": "plaintext"
    }
   },
   "outputs": [],
   "source": [
    "#!/bin/bash\n",
    "#SBATCH\n",
    "--partition=        # batch class, -p\n",
    "--job-name=         # -J\n",
    "--output=           # Stdout file name, -o\n",
    "--error= error.txt  # Stderr file name, if not specified, redirected to stdout file, -e\n",
    "--nodes             # no. of nodes, -N\n",
    "--tasks-per-node=   # no. of tasts per node\n",
    "--cpus-per-task=    # no. of cores per task, -c\n",
    "--gpus-per-node=\n",
    "--mem=              # real memory required per node, default unit Mb, G for Gb\n",
    "--time=             # walltime, \"days-hours:minutes:seconds\", max. 48h  -t\n",
    "--no-requeue        # never requeue the job\n",
    "--constraint=       # request special node feature, feature as input, sinfo for available features, -C \n",
    "--qos=              # quality of service, qos-name as input, sacctmgr show qos for available -q\n",
    "--mail-user=        # set email address for nofification  (currently not working)\n",
    "--mail-type=        # BEGIN, END, FAIL, ALL\n",
    "\n",
    "# never request full main memory, leave at least 1-2 GB for the operating system \n",
    "\n",
    "# relative or absolute path for output and error\n",
    "    # absolute path: gxfs_home/geomar/smomw681\n",
    "\n",
    "# if longer walltime than 48 h required: qos parameter \n",
    "    #SBATCH --qos=long\n",
    "    #SBATCH --time=5-00:00:00  # example: 5 days\n",
    "\n",
    "# interactive access of the GPU nodes \n",
    "srun --pty --partition=gpu --gpus-per-node=1 --mem=10000 --time=01:00:00 /bin/bash"
   ]
  },
  {
   "cell_type": "markdown",
   "metadata": {},
   "source": [
    "After job submission: \n",
    "check wheteher the job is submitted successfully. \n",
    "The job states are: \n",
    "PD: pending\n",
    "R: running"
   ]
  },
  {
   "cell_type": "code",
   "execution_count": null,
   "metadata": {
    "vscode": {
     "languageId": "plaintext"
    }
   },
   "outputs": [],
   "source": [
    "squeue  # every job in the node\n",
    "#only my jobs submitted\n",
    "squeue --me \n",
    "squeue -u smomw681\n",
    "\n",
    "squeue -j <jobid>\n",
    "scontrol show job <jobid>"
   ]
  },
  {
   "cell_type": "markdown",
   "metadata": {},
   "source": [
    "Further commands: "
   ]
  },
  {
   "cell_type": "code",
   "execution_count": null,
   "metadata": {
    "vscode": {
     "languageId": "plaintext"
    }
   },
   "outputs": [],
   "source": [
    "# gather resource informations of a running job\n",
    "sstat -j <jobid>.batch\n",
    "\n",
    "# general node information\n",
    "sinfo\n",
    "# show node list incl. available cpus, memory, features, local disk space\n",
    "sinfo --node -o "
   ]
  },
  {
   "cell_type": "markdown",
   "metadata": {},
   "source": [
    "If an access to internet required (default no internet access): "
   ]
  },
  {
   "cell_type": "code",
   "execution_count": null,
   "metadata": {
    "vscode": {
     "languageId": "plaintext"
    }
   },
   "outputs": [],
   "source": [
    "export http_proxy=http://10.0.7.235:3128\n",
    "export https_proxy=http://10.0.7.235:3128\n",
    "export ftp_proxy=http://10.0.7.235:3128"
   ]
  },
  {
   "cell_type": "markdown",
   "metadata": {},
   "source": [
    "## Partitions: \n",
    "\n",
    "Cluster subsystem:\n",
    "- base\n",
    "- highmem\n",
    "\n",
    "GPU subsystem: \n",
    "- gpu\n",
    "- interactive access of the GPU nodes \n",
    "    srun --pty --partition=gpu --gpus-per-node=1 --mem=10000 --time=01:00:00 /bin/bash\n",
    "\n",
    "Vector subsystem:\n",
    "- vector-test\n",
    "- vector\n",
    "\n",
    "Data subsystem: \n",
    "- data\n",
    "\n",
    "Interactive subsystem: \n",
    "- interactive\n"
   ]
  },
  {
   "cell_type": "markdown",
   "metadata": {},
   "source": [
    "Job arrarys: \n",
    "#SBATCH --array 0-100%5"
   ]
  },
  {
   "cell_type": "code",
   "execution_count": null,
   "metadata": {
    "vscode": {
     "languageId": "plaintext"
    }
   },
   "outputs": [],
   "source": [
    "echo \"Hi, I am task $SLURM_ARRAY_TASK_ID in the job array $SLURM_ARRAY_JOB_ID\"\n",
    "# limiting the no. of tasks ran at once\n",
    "#SBATCH --array 0-100%5"
   ]
  },
  {
   "cell_type": "markdown",
   "metadata": {},
   "source": [
    "Job and resource monitoring"
   ]
  },
  {
   "cell_type": "code",
   "execution_count": null,
   "metadata": {
    "vscode": {
     "languageId": "plaintext"
    }
   },
   "outputs": [],
   "source": [
    "# summary of parameters and resources used by your batch\n",
    "jobinfo\n",
    "\n",
    "# process monitoring\n",
    "ssh nesh-srp100 'top -b -u smomw681\n",
    "\n",
    "# Script of running slrum job\n",
    "scontrol write batch_script <job_ID>    # output: <script>.sh \n",
    "less -S <script>.sh\n"
   ]
  },
  {
   "cell_type": "markdown",
   "metadata": {},
   "source": [
    "## Set up of required environment\n",
    "The conda package is already installed in the working directory of the smomw681. \n",
    "Conda environments for each of the pipeline are required, containing following bioconda, other packages and modules:\n",
    "\n"
   ]
  }
 ],
 "metadata": {
  "language_info": {
   "name": "python"
  }
 },
 "nbformat": 4,
 "nbformat_minor": 2
}
