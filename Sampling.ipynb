{
 "cells": [
  {
   "cell_type": "markdown",
   "metadata": {},
   "source": [
    "# Sampling Documentation\n",
    "\n",
    "### A sampling documentation should contain:\n",
    "- Date, Time\n",
    "- Coordinate\n",
    "- Samples, Description of samples\n",
    "- Sampling method\n",
    "- Context\n",
    "- "
   ]
  },
  {
   "cell_type": "markdown",
   "metadata": {},
   "source": [
    "## Sampling Equipment\n",
    "#### Consumables\n",
    "\n",
    "#### Non-consumable\n",
    "\n",
    "#### Technical Equipment\n",
    "\n"
   ]
  },
  {
   "cell_type": "markdown",
   "metadata": {},
   "source": [
    "## Sampling site \n",
    "\n",
    "#### Possible Sampling Site\n",
    "54.243689, 10.283951\n",
    "\n",
    "54°14'43.1\"N 10°17'03.3\"E\n",
    "\n",
    "\n",
    "M.Sc. Student,\n",
    "Research Unit – Marine Symbiosis\n",
    "GEOMAR Helmholtz Centre for Ocean Research Kiel\n",
    "Wischofstr 1-3\n",
    "24148 Kiel, Germany\n"
   ]
  }
 ],
 "metadata": {
  "language_info": {
   "name": "python"
  }
 },
 "nbformat": 4,
 "nbformat_minor": 2
}
