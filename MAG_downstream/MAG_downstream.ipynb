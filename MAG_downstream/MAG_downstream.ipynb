{
 "cells": [
  {
   "cell_type": "markdown",
   "metadata": {},
   "source": [
    "# MAG Downstream Analysis\n",
    "\n",
    "MAG assembled from Illumina short-reads, PacBio long-reads and ASG are streamlined together. \n",
    "- MAG dereplication with dRep\n",
    "- Genome identification with GTDB-TK\n",
    "- Coverage information and quantification with CoverM"
   ]
  },
  {
   "cell_type": "code",
   "execution_count": null,
   "metadata": {
    "vscode": {
     "languageId": "plaintext"
    }
   },
   "outputs": [],
   "source": [
    "# Basic modules and environments required for the scripts\n",
    "module load gcc12-env/12.3.0\n",
    "module load miniconda3/24.11.1\n",
    "conda activate dRep\n",
    "conda activate GTDBTK\n",
    "conda activate METABAT2\n",
    "\n",
    "cd /gxfs_work/geomar/smomw681/DATA"
   ]
  },
  {
   "cell_type": "markdown",
   "metadata": {},
   "source": [
    "### MAG downstream analysis\n",
    "\n",
    "1. dRep: Filter and dereplicate METABAT2 bins\n",
    "    - Script: 4_0 (all)\n",
    "        - Only prokaryotic bins: 4_0_1\n",
    "    - The package uses prodigal, checkM, mash and  fastANI (alignment algorithm)\n",
    "    - Filter criteria: min. completeness 50% and max. contamination 5%\n",
    "    - The output of this pipeline can be used for identification of contained prokaryotes using GTDBTK\n",
    "    - Run CheckM2 for drep MAG (script 4_0)\n",
    "\n",
    "2. GTDB-TK: Taxonomic identification of MAG based on big database\n",
    "    - The DB must be downloaded beforehand (takes longer due to the size)\n",
    "    - classify step uses pplacer to find the maximum-likelihood placement of each genome in the GTDB-Tk reference tree. GTDB-Tk classifies each genome based on its placement in the reference tree, its relative evolutionary divergence, and/or average nucleotide identity (ANI) to reference genomes.\n",
    "    - Output: \n",
    "        - The output of this pipeline can be used to generate coverage information by mapping using coverM\n",
    "        - summary output: https://ecogenomics.github.io/GTDBTk/files/summary.tsv.html\n",
    "    - Script: 4_0\n",
    "\n",
    "3. CoverM: Map error-corrected reads to dereplicated MAGs\n",
    "    - Script: 4_1\n",
    "    - all\n",
    "    - Output: output_coverm.tsv\n",
    "        - .tsv file: sample (stats) x genome (names)\n",
    "        - Genome: The name of the genome\n",
    "        - $sample Mean: The mean read coverage from sample across the given genome, i.e. the average height across the genome if reads aligned were stacked on top of each other.\n",
    "        - $sample: Relative Abundance (%): The relative abundance of the genome within sample This metric accounts for differing genome sizes by using the proportion of mean coverage rather than the proportion of reads.\n",
    "        - $sample Covered Fraction: The proportion of the genome that is covered by at least one read.\n",
    "    \n"
   ]
  }
 ],
 "metadata": {
  "language_info": {
   "name": "python"
  }
 },
 "nbformat": 4,
 "nbformat_minor": 2
}
