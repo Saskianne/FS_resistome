{
 "cells": [
  {
   "cell_type": "markdown",
   "metadata": {},
   "source": [
    "# ARG Analysis \n",
    "ARG: antibiotic resistance genes\n",
    "\n",
    "### Goal of the analysis\n",
    "- Alignment of the MAG to the ARG database using DeepARG, DeepBGC and AntiSMASH pipelines\n",
    "- Detection of antibiotic resistance relevant genes, gene clusters and orthology\n"
   ]
  },
  {
   "cell_type": "markdown",
   "metadata": {},
   "source": [
    "### First steps\n",
    "1. Extraction of complete CDSs and ORFs \n",
    "    - using given perl script\n",
    "    - Script 5_0\n",
    "    - If required, do statistics about the fasta files containing CDSs and ORFs using written perl script"
   ]
  },
  {
   "cell_type": "code",
   "execution_count": null,
   "metadata": {
    "vscode": {
     "languageId": "plaintext"
    }
   },
   "outputs": [],
   "source": [
    "cd /gxfs_work/geomar/smomw681/DATA/MAG_Illumina/\n",
    "## STATS for\n",
    "\n",
    "## CTG_Illumina\n",
    "sbatch -c 3 -p base --mem=50G --job-name=StatCTG_Illumina \\\n",
    "     --wrap=\"perl /gxfs_work/geomar/smomw681/DATA/MAG_Files/SL_Fasta_Files_stats_modified_jobname.pl \\\n",
    "     CONTIGs_renamed\"\n",
    "##\n",
    "## CTG_PROKS\n",
    "sbatch -c 3 -p base --mem=50G --job-name=StatCTG_PROKS \\\n",
    "     --wrap=\"perl /gxfs_work/geomar/smomw681/DATA/MAG_Files/SL_Fasta_Files_stats_modified_jobname.pl \\\n",
    "     CLASS_CONTIGs/PROKS\"\n",
    "##\n",
    "## ORFs\n",
    "sbatch -c 3 -p base --mem=50G --job-name=StatORF_PROKS \\\n",
    "     --wrap=\"perl /gxfs_work/geomar/smomw681/DATA/MAG_Files/SL_Fasta_Files_stats_modified_jobname.pl \\\n",
    "     PRODIGAL/ORFs_ORIGINAL\"\n",
    "##\n",
    "## CDS\n",
    "sbatch -c 3 -p base --mem=50G --job-name=StatCDS_PROKS \\\n",
    "     --wrap=\"perl /gxfs_work/geomar/smomw681/DATA/MAG_Files/SL_Fasta_Files_stats_modified_jobname.pl \\\n",
    "     PRODIGAL/CDS_ORIGINAL\"\n",
    "##"
   ]
  },
  {
   "cell_type": "markdown",
   "metadata": {},
   "source": [
    "2. Downstream analysis using different bioinformatic pipelines\n",
    "2.1. DeepARG: \n",
    "- A deep learning based approach to predict ARGs from metagenomes\n",
    "    - provides two models ()\n",
    "    - deepARG-LS for long sequence: \n",
    "        - Annotate gene-like sequences when the input is a nucleotide FASTA file:\n",
    "            - deeparg predict --model LS --type nucl --input /path/file.fasta --out /path/to/out/file.out\n",
    "        - Annotate gene-like sequences when the input is an amino acid FASTA file:\n",
    "            - deeparg predict --model LS --type prot --input /path/file.fasta --out /path/to/out/file.out\n",
    "    - deepARG-SS for short short sequence reads\n",
    "- Script: 5_1\n",
    "- After the run: \n",
    "    - Search for ARG hits and count the number of hits\n",
    "    - Summarize the results with perl script below"
   ]
  },
  {
   "cell_type": "code",
   "execution_count": null,
   "metadata": {
    "vscode": {
     "languageId": "plaintext"
    }
   },
   "outputs": [],
   "source": [
    "## count number of hits\n",
    "wc -l | awk '$1 > 1 {print $1,$2}'\n",
    "## the total hits\n",
    "awk 'NR > 1' DeepARGs/*.deeparg.out.mapping.ARG | wc -l | awk '$1 > 1 {print $1,$2}'\n",
    "## showing for each file, excluding the header\n",
    "wc -l DeepARGs/*.deeparg.out.mapping.ARG | awk '$1 > 1 {print $1-1,$2}' > DeepARGs_hits_perSample.txt\n",
    "\n",
    "## Summary using perl script :\n",
    "INPUT_FILE=\"/gxfs_work/geomar/smomw681/DATA/MAG_Illumina/PRODIGAL/DeepARG/DeepARGs_hits_perSample.txt\"  \n",
    "OUTPUT_FILE=\"/gxfs_work/geomar/smomw681/DATA/MAG_Illumina/PRODIGAL/DeepARG/deeparg_PROKS_summary.txt\"\n",
    "perl /gxfs_work/geomar/smomw681/DATA/MAG_Files/SL_summarize_deeparg.pl \"$INPUT_FILE\" \"$OUTPUT_FILE\"\n"
   ]
  },
  {
   "cell_type": "markdown",
   "metadata": {},
   "source": [
    "2.2. DeeepBGC\n",
    "- script: 5_2  \n",
    "- Search for Biosynthetic Gene Cluster detection and classification\n",
    "    - Product class and activity of detected BGCs is predicted using a Random Forest classifier\n",
    " \n",
    "2.3. AntiSMASH \n",
    "- Script: 5_3\n",
    "- Search for secondary metabolite biosynthesis gene cluster"
   ]
  },
  {
   "cell_type": "markdown",
   "metadata": {},
   "source": []
  }
 ],
 "metadata": {
  "language_info": {
   "name": "python"
  }
 },
 "nbformat": 4,
 "nbformat_minor": 2
}
