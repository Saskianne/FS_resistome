{
 "cells": [
  {
   "cell_type": "markdown",
   "metadata": {},
   "source": [
    "# ARG Analysis \n",
    "ARG: antibiotic resistance genes\n",
    "\n",
    "### Goal of the analysis\n",
    "- Alignment of the MAG to the ARG database using DeepARG, DeepBGC and AntiSMASH pipelines\n",
    "- Detection of antibiotic resistance relevant genes, gene clusters and orthology\n"
   ]
  },
  {
   "cell_type": "markdown",
   "metadata": {},
   "source": [
    "### First steps\n",
    "1. Extraction of complete CDSs and ORFs \n",
    "    - using given perl script\n",
    "    - Script 5_0\n",
    "    - If required, do statistics about the fasta files containing CDSs and ORFs using written perl script"
   ]
  },
  {
   "cell_type": "code",
   "execution_count": null,
   "metadata": {
    "vscode": {
     "languageId": "plaintext"
    }
   },
   "outputs": [],
   "source": [
    "## STATS for\n",
    "\n",
    "## CDS\n",
    "sbatch -c 3 -p base --mem=50G --job-name=StatCTGs \\\n",
    "     --wrap=\"perl $HOME/ComGenomicsTools/OTHERScripts/Fasta_Files_stats_2024_version.pl \\\n",
    "     CONTIGs/RENAMED/\"\n",
    "##\n",
    "## ORFs\n",
    "sbatch -c 3 -p base --mem=50G --job-name=StatORFs \\\n",
    "     --wrap=\"perl $HOME/ComGenomicsTools/OTHERScripts/Fasta_Files_stats_2024_version.pl \\\n",
    "     ORFs/\"\n",
    "##\n",
    "## CDS\n",
    "sbatch -c 3 -p base --mem=50G --job-name=StatCDS2 \\\n",
    "     --wrap=\"perl $HOME/ComGenomicsTools/OTHERScripts/Fasta_Files_stats_2024_version.pl \\\n",
    "     CDS_ORIGINAL/\"\n",
    "##"
   ]
  },
  {
   "cell_type": "markdown",
   "metadata": {},
   "source": [
    "2. Downstream analysis using different bioinformatic pipelines\n",
    "2.1. DeepARG\n",
    "2.2. DeeepBGC\n",
    "2.3. AntiSMASH "
   ]
  },
  {
   "cell_type": "markdown",
   "metadata": {},
   "source": []
  }
 ],
 "metadata": {
  "language_info": {
   "name": "python"
  }
 },
 "nbformat": 4,
 "nbformat_minor": 2
}
