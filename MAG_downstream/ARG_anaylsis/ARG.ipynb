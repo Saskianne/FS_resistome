{
 "cells": [
  {
   "cell_type": "markdown",
   "metadata": {},
   "source": [
    "# ARG Analysis \n",
    "ARG: antibiotic resistance genes\n",
    "\n",
    "### Goal of the analysis\n",
    "- Alignment of the MAG to the ARG database using DeepARG, DeepBGC and AntiSMASH pipelines\n",
    "- Detection of antibiotic resistance relevant genes, gene clusters and orthology\n"
   ]
  },
  {
   "cell_type": "markdown",
   "metadata": {},
   "source": [
    "### First steps\n",
    "1. Extraction of complete CDSs and ORFs \n",
    "    - using given perl script\n",
    "    - Script 5_0\n",
    "    - If required, do statistics about the fasta files containing CDSs and ORFs using written perl script"
   ]
  },
  {
   "cell_type": "code",
   "execution_count": null,
   "metadata": {
    "vscode": {
     "languageId": "plaintext"
    }
   },
   "outputs": [],
   "source": [
    "## STATS for\n",
    "\n",
    "## CDS\n",
    "sbatch -c 3 -p base --mem=50G --job-name=StatCTGs \\\n",
    "     --wrap=\"perl $HOME/ComGenomicsTools/OTHERScripts/Fasta_Files_stats_2024_version.pl \\\n",
    "     CONTIGs/RENAMED/\"\n",
    "##\n",
    "## ORFs\n",
    "sbatch -c 3 -p base --mem=50G --job-name=StatORFs \\\n",
    "     --wrap=\"perl $HOME/ComGenomicsTools/OTHERScripts/Fasta_Files_stats_2024_version.pl \\\n",
    "     ORFs/\"\n",
    "##\n",
    "## CDS\n",
    "sbatch -c 3 -p base --mem=50G --job-name=StatCDS2 \\\n",
    "     --wrap=\"perl $HOME/ComGenomicsTools/OTHERScripts/Fasta_Files_stats_2024_version.pl \\\n",
    "     CDS_ORIGINAL/\"\n",
    "##"
   ]
  },
  {
   "cell_type": "markdown",
   "metadata": {},
   "source": [
    "2. Downstream analysis using different bioinformatic pipelines\n",
    "2.1. DeepARG\n",
    "- Search for ARG hits\n",
    "    - Script: 5_1\n",
    "    - Count the number of hits\n",
    "    - Summarize the results with perl script \n",
    "\n"
   ]
  },
  {
   "cell_type": "code",
   "execution_count": null,
   "metadata": {
    "vscode": {
     "languageId": "plaintext"
    }
   },
   "outputs": [],
   "source": [
    "## count number of hits\n",
    "wc -l | awk '$1 > 1 {print $1,$2}'\n",
    "## the total hits\n",
    "awk 'NR > 1' DeepARGs/*.deeparg.out.mapping.ARG | wc -l | awk '$1 > 1 {print $1,$2}'\n",
    "## showing for each file, excluding the header\n",
    "wc -l DeepARGs/*.deeparg.out.mapping.ARG | awk '$1 > 1 {print $1-1,$2}' > DeepARGs_hits_perSample.txt\n",
    "\n",
    "## Summary using perl script :\n",
    "INPUT_FILE=\"/gxfs_work/geomar/smomw681/DATA/MAG_Illumina/PRODIGAL/DeepARG/DeepARGs_hits_perSample.txt\"  \n",
    "OUTPUT_FILE=\"/gxfs_work/geomar/smomw681/DATA/MAG_Illumina/PRODIGAL/DeepARG/deeparg_PROKS_summary.txt\"\n",
    "perl /gxfs_work/geomar/smomw681/DATA/MAG_Files/SL_summarize_deeparg.pl \"$INPUT_FILE\" \"$OUTPUT_FILE\"\n"
   ]
  },
  {
   "cell_type": "markdown",
   "metadata": {},
   "source": [
    "2.2. DeeepBGC\n",
    "- Search for ARG clusters\n",
    "    - script: 5_2   \n",
    "2.3. AntiSMASH \n",
    "- Search for secondary metabolite biosynthesis gene cluster"
   ]
  },
  {
   "cell_type": "markdown",
   "metadata": {},
   "source": []
  }
 ],
 "metadata": {
  "language_info": {
   "name": "python"
  }
 },
 "nbformat": 4,
 "nbformat_minor": 2
}
