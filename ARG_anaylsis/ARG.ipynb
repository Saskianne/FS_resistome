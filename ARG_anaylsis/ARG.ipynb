{
 "cells": [
  {
   "cell_type": "markdown",
   "metadata": {},
   "source": [
    "# ARG Analysis \n",
    "ARG: antibiotic resistance genes\n",
    "\n",
    "### Goal of the analysis\n",
    "- Alignment of the MAG to the ARG database using DeepARG, DeepBGC and AntiSMASH pipelines\n",
    "- Detection of antibiotic resistance relevant genes, gene clusters and orthology\n"
   ]
  },
  {
   "cell_type": "markdown",
   "metadata": {},
   "source": []
  }
 ],
 "metadata": {
  "language_info": {
   "name": "python"
  }
 },
 "nbformat": 4,
 "nbformat_minor": 2
}
