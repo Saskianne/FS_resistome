{
 "cells": [
  {
   "cell_type": "markdown",
   "metadata": {},
   "source": [
    "## Check Juttas Strains' genome\n",
    "\n",
    "- Jutta provided 2 antibiotic resistant strains isolated from Halichondria sp.\n",
    "    - H208: highly antibiotic resistant Pseudomonas sp. \n",
    "    - Hal150: medium antibiotic resistance, Defluviimonas sp. \n",
    "    - These two strains are used for the validation of 5 qPCR primers\n",
    "    - Fully assembled genome from long-read sequencing provided\n",
    "\n",
    "- How to confirm/check whether the PCR results is in accordance with the data\n",
    "    - Run prodigal and extract prokaryotic CDS and ORFs\n",
    "    - Run deepARG, deepBGC and AntiSmash\n",
    "    - Search for hits in results\n",
    "    "
   ]
  }
 ],
 "metadata": {
  "language_info": {
   "name": "python"
  }
 },
 "nbformat": 4,
 "nbformat_minor": 2
}
