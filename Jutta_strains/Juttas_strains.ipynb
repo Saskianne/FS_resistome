{
 "cells": [
  {
   "cell_type": "markdown",
   "metadata": {},
   "source": [
    "## Check Juttas Strains' genome\n",
    "\n",
    "- Jutta provided 2 antibiotic resistant strains isolated from Halichondria sp.\n",
    "    - H208: highly antibiotic resistant Pseudomonas sp. \n",
    "    - Hal150: medium antibiotic resistance, Defluviimonas sp. \n",
    "    - These two strains are used for the validation of 5 qPCR primers\n",
    "    - Fully assembled genome from long-read sequencing provided\n",
    "\n",
    "- How to confirm/check whether the PCR results is in accordance with the data\n",
    "    - Run prodigal and extract prokaryotic CDS and ORFs\n",
    "    - Run deepARG, deepBGC and AntiSmash\n",
    "    - Search for hits in results\n",
    "    - compare it with the result of PCR\n",
    "    "
   ]
  },
  {
   "cell_type": "markdown",
   "metadata": {},
   "source": [
    "- Now, there is a need of positive control of (q)PCR and to simplify and keep continuous source of positive control amplicons, there is need of finding positive strains from environmental isolates\n",
    "    1. First, examine WGS of each isolates on the ARG content (DeepARG, AntiSMASH)\n",
    "        - High ARG content\n",
    "        - Specific ARG we are looking for is contained \n",
    "    2. Do PCR with the primers on the candidate strains\n",
    "    3. Do amplicon sequencing \n"
   ]
  },
  {
   "cell_type": "code",
   "execution_count": null,
   "metadata": {
    "vscode": {
     "languageId": "plaintext"
    }
   },
   "outputs": [],
   "source": []
  }
 ],
 "metadata": {
  "language_info": {
   "name": "python"
  }
 },
 "nbformat": 4,
 "nbformat_minor": 2
}
